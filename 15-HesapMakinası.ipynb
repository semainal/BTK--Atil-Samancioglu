{
 "cells": [
  {
   "cell_type": "code",
   "execution_count": null,
   "metadata": {},
   "outputs": [
    {
     "name": "stdout",
     "output_type": "stream",
     "text": [
      "ilk sayıyı giriniz: 12\n",
      "ikinci sayıyı giriniz: *\n",
      "Lütfen sayıları doğru giriniz.\n",
      "ilk sayıyı giriniz: 20\n",
      "ikinci sayıyı giriniz: 30\n",
      "işleminizi seçiniz: +-*//\n",
      "20 / 30 = 0.6666666666666666\n",
      "Lütfen sayıları doğru giriniz.\n"
     ]
    }
   ],
   "source": [
    "def hesapla(a,b,islem):\n",
    "    \n",
    "    if islem not in \"+-*/\":\n",
    "        return \"Lütfen '+' ,'-', '*', '/' işlemlerinden birini seçiniz.\"\n",
    "    if islem == \"+\":\n",
    "        return (str(a)+\" + \"+str(b) +\" = \"+ str(a+b))\n",
    "    elif islem == \"-\":\n",
    "        return (str(a)+\" - \"+str(b) +\" = \"+ str(a-b))\n",
    "    elif islem == \"*\":\n",
    "        return (str(a)+\" * \"+str(b) +\" = \"+ str(a*b))\n",
    "    elif islem == \"/\":\n",
    "        return (str(a)+\" / \"+str(b) +\" = \"+ str(a/b))\n",
    "\n",
    "while True:\n",
    "    try:\n",
    "        a = int(input(\"ilk sayıyı giriniz: \"))\n",
    "        b = int(input(\"ikinci sayıyı giriniz: \"))\n",
    "        islem = input(\"işleminizi seçiniz: +-*/\")\n",
    "        print(hesapla(a,b,islem))\n",
    "    except:\n",
    "        print(\"Lütfen sayıları doğru giriniz.\")"
   ]
  },
  {
   "cell_type": "code",
   "execution_count": null,
   "metadata": {},
   "outputs": [],
   "source": []
  }
 ],
 "metadata": {
  "kernelspec": {
   "display_name": "Python 3",
   "language": "python",
   "name": "python3"
  },
  "language_info": {
   "codemirror_mode": {
    "name": "ipython",
    "version": 3
   },
   "file_extension": ".py",
   "mimetype": "text/x-python",
   "name": "python",
   "nbconvert_exporter": "python",
   "pygments_lexer": "ipython3",
   "version": "3.8.5"
  }
 },
 "nbformat": 4,
 "nbformat_minor": 4
}
