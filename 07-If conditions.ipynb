{
 "cells": [
  {
   "cell_type": "code",
   "execution_count": 1,
   "metadata": {},
   "outputs": [],
   "source": [
    "x = 4\n",
    "y = 4"
   ]
  },
  {
   "cell_type": "code",
   "execution_count": 2,
   "metadata": {},
   "outputs": [
    {
     "name": "stdout",
     "output_type": "stream",
     "text": [
      "x ve y birbirine eşittir.\n"
     ]
    }
   ],
   "source": [
    "if x > y:\n",
    "    print(\"x y'den büyüktür.\")\n",
    "elif y > x:\n",
    "    print(\"y x'den büyüktür.\")\n",
    "else:\n",
    "    print(\"x ve y birbirine eşittir.\")"
   ]
  },
  {
   "cell_type": "code",
   "execution_count": 5,
   "metadata": {},
   "outputs": [
    {
     "name": "stdout",
     "output_type": "stream",
     "text": [
      "Super kahramanınızı seçin: superman\n"
     ]
    }
   ],
   "source": [
    "benimSuperKahramanim = input(\"Super kahramanınızı seçin: \")"
   ]
  },
  {
   "cell_type": "code",
   "execution_count": 6,
   "metadata": {},
   "outputs": [
    {
     "name": "stdout",
     "output_type": "stream",
     "text": [
      "Keşke Batman'i seçseydiniz.\n"
     ]
    }
   ],
   "source": [
    "if benimSuperKahramanim == \"batman\":\n",
    "    print(\"Tebrikler Batman'i seçtiniz.\")\n",
    "elif benimSuperKahramanim == \"superman\":\n",
    "    print(\"Keşke Batman'i seçseydiniz.\")\n",
    "elif benimSuperKahramanim == \"Spiderman\":\n",
    "    print(\"Daha iyi kahramanlar tanıdım.\")\n",
    "else:\n",
    "    print(\"O kim tanımıyorum.\")"
   ]
  },
  {
   "cell_type": "code",
   "execution_count": 7,
   "metadata": {},
   "outputs": [],
   "source": [
    "a = 10\n",
    "b = 20\n",
    "c = 30"
   ]
  },
  {
   "cell_type": "code",
   "execution_count": 8,
   "metadata": {},
   "outputs": [
    {
     "name": "stdout",
     "output_type": "stream",
     "text": [
      "b a'dan büyük VE c b'den büyük\n"
     ]
    }
   ],
   "source": [
    "if a > b and c>a:\n",
    "    print (\"a b'den büyük VE c a'dan büyük.\")\n",
    "elif b>a and c>b:\n",
    "    print (\"b a'dan büyük VE c b'den büyük\")"
   ]
  },
  {
   "cell_type": "code",
   "execution_count": 9,
   "metadata": {},
   "outputs": [
    {
     "name": "stdout",
     "output_type": "stream",
     "text": [
      "b a'dan büyük VEYA c a'dan büyük.\n"
     ]
    }
   ],
   "source": [
    "if b>a or c<a:\n",
    "    print (\"b a'dan büyük VEYA c a'dan büyük.\")"
   ]
  },
  {
   "cell_type": "code",
   "execution_count": null,
   "metadata": {},
   "outputs": [],
   "source": []
  },
  {
   "cell_type": "code",
   "execution_count": 20,
   "metadata": {},
   "outputs": [],
   "source": [
    "karakterCanli = False"
   ]
  },
  {
   "cell_type": "code",
   "execution_count": 21,
   "metadata": {},
   "outputs": [
    {
     "name": "stdout",
     "output_type": "stream",
     "text": [
      "oyun bitti\n"
     ]
    }
   ],
   "source": [
    "if karakterCanli:\n",
    "    print(\"oyuna devam edebilirsiniz\")\n",
    "else:\n",
    "    print(\"oyun bitti\")"
   ]
  },
  {
   "cell_type": "code",
   "execution_count": 22,
   "metadata": {},
   "outputs": [
    {
     "name": "stdout",
     "output_type": "stream",
     "text": [
      "oyun bitti\n"
     ]
    }
   ],
   "source": [
    "if not karakterCanli:\n",
    "    print(\"oyun bitti\")"
   ]
  },
  {
   "cell_type": "code",
   "execution_count": 23,
   "metadata": {},
   "outputs": [],
   "source": [
    "benimString = \"Sema İnal\""
   ]
  },
  {
   "cell_type": "code",
   "execution_count": 24,
   "metadata": {},
   "outputs": [
    {
     "name": "stdout",
     "output_type": "stream",
     "text": [
      "varmış.\n"
     ]
    }
   ],
   "source": [
    "if \"İnal\" in benimString:\n",
    "    print(\"varmış.\")\n",
    "else:\n",
    "    print(\"yokmuş\")"
   ]
  },
  {
   "cell_type": "code",
   "execution_count": 25,
   "metadata": {},
   "outputs": [],
   "source": [
    "benimSozluk = {\"muz\": 100, \"elma\": 150, \"karpuz\": 250}"
   ]
  },
  {
   "cell_type": "code",
   "execution_count": 26,
   "metadata": {},
   "outputs": [
    {
     "name": "stdout",
     "output_type": "stream",
     "text": [
      "varmış\n"
     ]
    }
   ],
   "source": [
    "if \"muz\" in benimSozluk.keys():\n",
    "    print(\"varmış\")"
   ]
  },
  {
   "cell_type": "code",
   "execution_count": 27,
   "metadata": {},
   "outputs": [
    {
     "name": "stdout",
     "output_type": "stream",
     "text": [
      "yokmuş\n"
     ]
    }
   ],
   "source": [
    "if 300 in benimSozluk.values():\n",
    "    print(\"varmış\")\n",
    "else:\n",
    "    print(\"yokmuş\")"
   ]
  },
  {
   "cell_type": "code",
   "execution_count": null,
   "metadata": {},
   "outputs": [],
   "source": []
  }
 ],
 "metadata": {
  "kernelspec": {
   "display_name": "Python 3",
   "language": "python",
   "name": "python3"
  },
  "language_info": {
   "codemirror_mode": {
    "name": "ipython",
    "version": 3
   },
   "file_extension": ".py",
   "mimetype": "text/x-python",
   "name": "python",
   "nbconvert_exporter": "python",
   "pygments_lexer": "ipython3",
   "version": "3.8.5"
  }
 },
 "nbformat": 4,
 "nbformat_minor": 4
}
