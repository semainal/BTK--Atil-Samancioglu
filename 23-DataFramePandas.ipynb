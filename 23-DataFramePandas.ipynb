{
 "cells": [
  {
   "cell_type": "code",
   "execution_count": null,
   "metadata": {},
   "outputs": [],
   "source": [
    "import numpy as np\n",
    "import pandas as pd"
   ]
  },
  {
   "cell_type": "code",
   "execution_count": 2,
   "metadata": {},
   "outputs": [],
   "source": [
    "data = np.random.randn(4,3)"
   ]
  },
  {
   "cell_type": "code",
   "execution_count": 3,
   "metadata": {},
   "outputs": [
    {
     "data": {
      "text/plain": [
       "array([[-0.55057749, -0.43614278, -1.34291832],\n",
       "       [-0.99435442,  1.66168726, -0.98201712],\n",
       "       [ 0.92192012, -0.56740725, -0.28273652],\n",
       "       [ 0.54635615, -0.40651638,  0.53739968]])"
      ]
     },
     "execution_count": 3,
     "metadata": {},
     "output_type": "execute_result"
    }
   ],
   "source": [
    "data"
   ]
  },
  {
   "cell_type": "code",
   "execution_count": 4,
   "metadata": {},
   "outputs": [],
   "source": [
    "dataFrame = pd.DataFrame(data)"
   ]
  },
  {
   "cell_type": "code",
   "execution_count": 5,
   "metadata": {},
   "outputs": [
    {
     "data": {
      "text/html": [
       "<div>\n",
       "<style scoped>\n",
       "    .dataframe tbody tr th:only-of-type {\n",
       "        vertical-align: middle;\n",
       "    }\n",
       "\n",
       "    .dataframe tbody tr th {\n",
       "        vertical-align: top;\n",
       "    }\n",
       "\n",
       "    .dataframe thead th {\n",
       "        text-align: right;\n",
       "    }\n",
       "</style>\n",
       "<table border=\"1\" class=\"dataframe\">\n",
       "  <thead>\n",
       "    <tr style=\"text-align: right;\">\n",
       "      <th></th>\n",
       "      <th>0</th>\n",
       "      <th>1</th>\n",
       "      <th>2</th>\n",
       "    </tr>\n",
       "  </thead>\n",
       "  <tbody>\n",
       "    <tr>\n",
       "      <th>0</th>\n",
       "      <td>-0.550577</td>\n",
       "      <td>-0.436143</td>\n",
       "      <td>-1.342918</td>\n",
       "    </tr>\n",
       "    <tr>\n",
       "      <th>1</th>\n",
       "      <td>-0.994354</td>\n",
       "      <td>1.661687</td>\n",
       "      <td>-0.982017</td>\n",
       "    </tr>\n",
       "    <tr>\n",
       "      <th>2</th>\n",
       "      <td>0.921920</td>\n",
       "      <td>-0.567407</td>\n",
       "      <td>-0.282737</td>\n",
       "    </tr>\n",
       "    <tr>\n",
       "      <th>3</th>\n",
       "      <td>0.546356</td>\n",
       "      <td>-0.406516</td>\n",
       "      <td>0.537400</td>\n",
       "    </tr>\n",
       "  </tbody>\n",
       "</table>\n",
       "</div>"
      ],
      "text/plain": [
       "          0         1         2\n",
       "0 -0.550577 -0.436143 -1.342918\n",
       "1 -0.994354  1.661687 -0.982017\n",
       "2  0.921920 -0.567407 -0.282737\n",
       "3  0.546356 -0.406516  0.537400"
      ]
     },
     "execution_count": 5,
     "metadata": {},
     "output_type": "execute_result"
    }
   ],
   "source": [
    "dataFrame"
   ]
  },
  {
   "cell_type": "code",
   "execution_count": 6,
   "metadata": {},
   "outputs": [
    {
     "data": {
      "text/plain": [
       "0   -0.550577\n",
       "1   -0.994354\n",
       "2    0.921920\n",
       "3    0.546356\n",
       "Name: 0, dtype: float64"
      ]
     },
     "execution_count": 6,
     "metadata": {},
     "output_type": "execute_result"
    }
   ],
   "source": [
    "dataFrame[0]"
   ]
  },
  {
   "cell_type": "code",
   "execution_count": 7,
   "metadata": {},
   "outputs": [],
   "source": [
    "yeniDataFrame = pd.DataFrame(data, index=[\"Sema\",\"Tolga\",\"Melis\",\"Venüs\"], columns=[\"Maaş\",\"Yaş\",\"Çalışma Saati\"])"
   ]
  },
  {
   "cell_type": "code",
   "execution_count": 8,
   "metadata": {},
   "outputs": [
    {
     "data": {
      "text/html": [
       "<div>\n",
       "<style scoped>\n",
       "    .dataframe tbody tr th:only-of-type {\n",
       "        vertical-align: middle;\n",
       "    }\n",
       "\n",
       "    .dataframe tbody tr th {\n",
       "        vertical-align: top;\n",
       "    }\n",
       "\n",
       "    .dataframe thead th {\n",
       "        text-align: right;\n",
       "    }\n",
       "</style>\n",
       "<table border=\"1\" class=\"dataframe\">\n",
       "  <thead>\n",
       "    <tr style=\"text-align: right;\">\n",
       "      <th></th>\n",
       "      <th>Maaş</th>\n",
       "      <th>Yaş</th>\n",
       "      <th>Çalışma Saati</th>\n",
       "    </tr>\n",
       "  </thead>\n",
       "  <tbody>\n",
       "    <tr>\n",
       "      <th>Sema</th>\n",
       "      <td>-0.550577</td>\n",
       "      <td>-0.436143</td>\n",
       "      <td>-1.342918</td>\n",
       "    </tr>\n",
       "    <tr>\n",
       "      <th>Tolga</th>\n",
       "      <td>-0.994354</td>\n",
       "      <td>1.661687</td>\n",
       "      <td>-0.982017</td>\n",
       "    </tr>\n",
       "    <tr>\n",
       "      <th>Melis</th>\n",
       "      <td>0.921920</td>\n",
       "      <td>-0.567407</td>\n",
       "      <td>-0.282737</td>\n",
       "    </tr>\n",
       "    <tr>\n",
       "      <th>Venüs</th>\n",
       "      <td>0.546356</td>\n",
       "      <td>-0.406516</td>\n",
       "      <td>0.537400</td>\n",
       "    </tr>\n",
       "  </tbody>\n",
       "</table>\n",
       "</div>"
      ],
      "text/plain": [
       "           Maaş       Yaş  Çalışma Saati\n",
       "Sema  -0.550577 -0.436143      -1.342918\n",
       "Tolga -0.994354  1.661687      -0.982017\n",
       "Melis  0.921920 -0.567407      -0.282737\n",
       "Venüs  0.546356 -0.406516       0.537400"
      ]
     },
     "execution_count": 8,
     "metadata": {},
     "output_type": "execute_result"
    }
   ],
   "source": [
    "yeniDataFrame"
   ]
  },
  {
   "cell_type": "code",
   "execution_count": 9,
   "metadata": {},
   "outputs": [
    {
     "data": {
      "text/plain": [
       "Sema    -0.436143\n",
       "Tolga    1.661687\n",
       "Melis   -0.567407\n",
       "Venüs   -0.406516\n",
       "Name: Yaş, dtype: float64"
      ]
     },
     "execution_count": 9,
     "metadata": {},
     "output_type": "execute_result"
    }
   ],
   "source": [
    "yeniDataFrame[\"Yaş\"]"
   ]
  },
  {
   "cell_type": "code",
   "execution_count": 10,
   "metadata": {},
   "outputs": [
    {
     "data": {
      "text/html": [
       "<div>\n",
       "<style scoped>\n",
       "    .dataframe tbody tr th:only-of-type {\n",
       "        vertical-align: middle;\n",
       "    }\n",
       "\n",
       "    .dataframe tbody tr th {\n",
       "        vertical-align: top;\n",
       "    }\n",
       "\n",
       "    .dataframe thead th {\n",
       "        text-align: right;\n",
       "    }\n",
       "</style>\n",
       "<table border=\"1\" class=\"dataframe\">\n",
       "  <thead>\n",
       "    <tr style=\"text-align: right;\">\n",
       "      <th></th>\n",
       "      <th>Maaş</th>\n",
       "      <th>Çalışma Saati</th>\n",
       "    </tr>\n",
       "  </thead>\n",
       "  <tbody>\n",
       "    <tr>\n",
       "      <th>Sema</th>\n",
       "      <td>-0.550577</td>\n",
       "      <td>-1.342918</td>\n",
       "    </tr>\n",
       "    <tr>\n",
       "      <th>Tolga</th>\n",
       "      <td>-0.994354</td>\n",
       "      <td>-0.982017</td>\n",
       "    </tr>\n",
       "    <tr>\n",
       "      <th>Melis</th>\n",
       "      <td>0.921920</td>\n",
       "      <td>-0.282737</td>\n",
       "    </tr>\n",
       "    <tr>\n",
       "      <th>Venüs</th>\n",
       "      <td>0.546356</td>\n",
       "      <td>0.537400</td>\n",
       "    </tr>\n",
       "  </tbody>\n",
       "</table>\n",
       "</div>"
      ],
      "text/plain": [
       "           Maaş  Çalışma Saati\n",
       "Sema  -0.550577      -1.342918\n",
       "Tolga -0.994354      -0.982017\n",
       "Melis  0.921920      -0.282737\n",
       "Venüs  0.546356       0.537400"
      ]
     },
     "execution_count": 10,
     "metadata": {},
     "output_type": "execute_result"
    }
   ],
   "source": [
    "yeniDataFrame[[\"Maaş\",\"Çalışma Saati\"]]"
   ]
  },
  {
   "cell_type": "code",
   "execution_count": 11,
   "metadata": {},
   "outputs": [
    {
     "data": {
      "text/plain": [
       "Maaş             0.546356\n",
       "Yaş             -0.406516\n",
       "Çalışma Saati    0.537400\n",
       "Name: Venüs, dtype: float64"
      ]
     },
     "execution_count": 11,
     "metadata": {},
     "output_type": "execute_result"
    }
   ],
   "source": [
    "yeniDataFrame.loc[\"Venüs\"]"
   ]
  },
  {
   "cell_type": "code",
   "execution_count": 12,
   "metadata": {},
   "outputs": [
    {
     "data": {
      "text/plain": [
       "Maaş             0.921920\n",
       "Yaş             -0.567407\n",
       "Çalışma Saati   -0.282737\n",
       "Name: Melis, dtype: float64"
      ]
     },
     "execution_count": 12,
     "metadata": {},
     "output_type": "execute_result"
    }
   ],
   "source": [
    "yeniDataFrame.iloc[2]"
   ]
  },
  {
   "cell_type": "code",
   "execution_count": 13,
   "metadata": {},
   "outputs": [],
   "source": [
    "yeniDataFrame[\"Emeklilik Yaşı\"] = yeniDataFrame[\"Yaş\"] + yeniDataFrame[\"Yaş\"]"
   ]
  },
  {
   "cell_type": "code",
   "execution_count": 14,
   "metadata": {},
   "outputs": [
    {
     "data": {
      "text/html": [
       "<div>\n",
       "<style scoped>\n",
       "    .dataframe tbody tr th:only-of-type {\n",
       "        vertical-align: middle;\n",
       "    }\n",
       "\n",
       "    .dataframe tbody tr th {\n",
       "        vertical-align: top;\n",
       "    }\n",
       "\n",
       "    .dataframe thead th {\n",
       "        text-align: right;\n",
       "    }\n",
       "</style>\n",
       "<table border=\"1\" class=\"dataframe\">\n",
       "  <thead>\n",
       "    <tr style=\"text-align: right;\">\n",
       "      <th></th>\n",
       "      <th>Maaş</th>\n",
       "      <th>Yaş</th>\n",
       "      <th>Çalışma Saati</th>\n",
       "      <th>Emeklilik Yaşı</th>\n",
       "    </tr>\n",
       "  </thead>\n",
       "  <tbody>\n",
       "    <tr>\n",
       "      <th>Sema</th>\n",
       "      <td>-0.550577</td>\n",
       "      <td>-0.436143</td>\n",
       "      <td>-1.342918</td>\n",
       "      <td>-0.872286</td>\n",
       "    </tr>\n",
       "    <tr>\n",
       "      <th>Tolga</th>\n",
       "      <td>-0.994354</td>\n",
       "      <td>1.661687</td>\n",
       "      <td>-0.982017</td>\n",
       "      <td>3.323375</td>\n",
       "    </tr>\n",
       "    <tr>\n",
       "      <th>Melis</th>\n",
       "      <td>0.921920</td>\n",
       "      <td>-0.567407</td>\n",
       "      <td>-0.282737</td>\n",
       "      <td>-1.134814</td>\n",
       "    </tr>\n",
       "    <tr>\n",
       "      <th>Venüs</th>\n",
       "      <td>0.546356</td>\n",
       "      <td>-0.406516</td>\n",
       "      <td>0.537400</td>\n",
       "      <td>-0.813033</td>\n",
       "    </tr>\n",
       "  </tbody>\n",
       "</table>\n",
       "</div>"
      ],
      "text/plain": [
       "           Maaş       Yaş  Çalışma Saati  Emeklilik Yaşı\n",
       "Sema  -0.550577 -0.436143      -1.342918       -0.872286\n",
       "Tolga -0.994354  1.661687      -0.982017        3.323375\n",
       "Melis  0.921920 -0.567407      -0.282737       -1.134814\n",
       "Venüs  0.546356 -0.406516       0.537400       -0.813033"
      ]
     },
     "execution_count": 14,
     "metadata": {},
     "output_type": "execute_result"
    }
   ],
   "source": [
    "yeniDataFrame"
   ]
  },
  {
   "cell_type": "code",
   "execution_count": 15,
   "metadata": {},
   "outputs": [
    {
     "data": {
      "text/html": [
       "<div>\n",
       "<style scoped>\n",
       "    .dataframe tbody tr th:only-of-type {\n",
       "        vertical-align: middle;\n",
       "    }\n",
       "\n",
       "    .dataframe tbody tr th {\n",
       "        vertical-align: top;\n",
       "    }\n",
       "\n",
       "    .dataframe thead th {\n",
       "        text-align: right;\n",
       "    }\n",
       "</style>\n",
       "<table border=\"1\" class=\"dataframe\">\n",
       "  <thead>\n",
       "    <tr style=\"text-align: right;\">\n",
       "      <th></th>\n",
       "      <th>Maaş</th>\n",
       "      <th>Yaş</th>\n",
       "      <th>Çalışma Saati</th>\n",
       "    </tr>\n",
       "  </thead>\n",
       "  <tbody>\n",
       "    <tr>\n",
       "      <th>Sema</th>\n",
       "      <td>-0.550577</td>\n",
       "      <td>-0.436143</td>\n",
       "      <td>-1.342918</td>\n",
       "    </tr>\n",
       "    <tr>\n",
       "      <th>Tolga</th>\n",
       "      <td>-0.994354</td>\n",
       "      <td>1.661687</td>\n",
       "      <td>-0.982017</td>\n",
       "    </tr>\n",
       "    <tr>\n",
       "      <th>Melis</th>\n",
       "      <td>0.921920</td>\n",
       "      <td>-0.567407</td>\n",
       "      <td>-0.282737</td>\n",
       "    </tr>\n",
       "    <tr>\n",
       "      <th>Venüs</th>\n",
       "      <td>0.546356</td>\n",
       "      <td>-0.406516</td>\n",
       "      <td>0.537400</td>\n",
       "    </tr>\n",
       "  </tbody>\n",
       "</table>\n",
       "</div>"
      ],
      "text/plain": [
       "           Maaş       Yaş  Çalışma Saati\n",
       "Sema  -0.550577 -0.436143      -1.342918\n",
       "Tolga -0.994354  1.661687      -0.982017\n",
       "Melis  0.921920 -0.567407      -0.282737\n",
       "Venüs  0.546356 -0.406516       0.537400"
      ]
     },
     "execution_count": 15,
     "metadata": {},
     "output_type": "execute_result"
    }
   ],
   "source": [
    "yeniDataFrame.drop(\"Emeklilik Yaşı\", axis=1)"
   ]
  },
  {
   "cell_type": "code",
   "execution_count": 16,
   "metadata": {},
   "outputs": [
    {
     "data": {
      "text/html": [
       "<div>\n",
       "<style scoped>\n",
       "    .dataframe tbody tr th:only-of-type {\n",
       "        vertical-align: middle;\n",
       "    }\n",
       "\n",
       "    .dataframe tbody tr th {\n",
       "        vertical-align: top;\n",
       "    }\n",
       "\n",
       "    .dataframe thead th {\n",
       "        text-align: right;\n",
       "    }\n",
       "</style>\n",
       "<table border=\"1\" class=\"dataframe\">\n",
       "  <thead>\n",
       "    <tr style=\"text-align: right;\">\n",
       "      <th></th>\n",
       "      <th>Maaş</th>\n",
       "      <th>Yaş</th>\n",
       "      <th>Çalışma Saati</th>\n",
       "      <th>Emeklilik Yaşı</th>\n",
       "    </tr>\n",
       "  </thead>\n",
       "  <tbody>\n",
       "    <tr>\n",
       "      <th>Sema</th>\n",
       "      <td>-0.550577</td>\n",
       "      <td>-0.436143</td>\n",
       "      <td>-1.342918</td>\n",
       "      <td>-0.872286</td>\n",
       "    </tr>\n",
       "    <tr>\n",
       "      <th>Melis</th>\n",
       "      <td>0.921920</td>\n",
       "      <td>-0.567407</td>\n",
       "      <td>-0.282737</td>\n",
       "      <td>-1.134814</td>\n",
       "    </tr>\n",
       "    <tr>\n",
       "      <th>Venüs</th>\n",
       "      <td>0.546356</td>\n",
       "      <td>-0.406516</td>\n",
       "      <td>0.537400</td>\n",
       "      <td>-0.813033</td>\n",
       "    </tr>\n",
       "  </tbody>\n",
       "</table>\n",
       "</div>"
      ],
      "text/plain": [
       "           Maaş       Yaş  Çalışma Saati  Emeklilik Yaşı\n",
       "Sema  -0.550577 -0.436143      -1.342918       -0.872286\n",
       "Melis  0.921920 -0.567407      -0.282737       -1.134814\n",
       "Venüs  0.546356 -0.406516       0.537400       -0.813033"
      ]
     },
     "execution_count": 16,
     "metadata": {},
     "output_type": "execute_result"
    }
   ],
   "source": [
    "yeniDataFrame.drop(\"Tolga\", axis=0)"
   ]
  },
  {
   "cell_type": "code",
   "execution_count": 17,
   "metadata": {},
   "outputs": [
    {
     "data": {
      "text/html": [
       "<div>\n",
       "<style scoped>\n",
       "    .dataframe tbody tr th:only-of-type {\n",
       "        vertical-align: middle;\n",
       "    }\n",
       "\n",
       "    .dataframe tbody tr th {\n",
       "        vertical-align: top;\n",
       "    }\n",
       "\n",
       "    .dataframe thead th {\n",
       "        text-align: right;\n",
       "    }\n",
       "</style>\n",
       "<table border=\"1\" class=\"dataframe\">\n",
       "  <thead>\n",
       "    <tr style=\"text-align: right;\">\n",
       "      <th></th>\n",
       "      <th>Maaş</th>\n",
       "      <th>Yaş</th>\n",
       "      <th>Çalışma Saati</th>\n",
       "      <th>Emeklilik Yaşı</th>\n",
       "    </tr>\n",
       "  </thead>\n",
       "  <tbody>\n",
       "    <tr>\n",
       "      <th>Sema</th>\n",
       "      <td>-0.550577</td>\n",
       "      <td>-0.436143</td>\n",
       "      <td>-1.342918</td>\n",
       "      <td>-0.872286</td>\n",
       "    </tr>\n",
       "    <tr>\n",
       "      <th>Tolga</th>\n",
       "      <td>-0.994354</td>\n",
       "      <td>1.661687</td>\n",
       "      <td>-0.982017</td>\n",
       "      <td>3.323375</td>\n",
       "    </tr>\n",
       "    <tr>\n",
       "      <th>Melis</th>\n",
       "      <td>0.921920</td>\n",
       "      <td>-0.567407</td>\n",
       "      <td>-0.282737</td>\n",
       "      <td>-1.134814</td>\n",
       "    </tr>\n",
       "    <tr>\n",
       "      <th>Venüs</th>\n",
       "      <td>0.546356</td>\n",
       "      <td>-0.406516</td>\n",
       "      <td>0.537400</td>\n",
       "      <td>-0.813033</td>\n",
       "    </tr>\n",
       "  </tbody>\n",
       "</table>\n",
       "</div>"
      ],
      "text/plain": [
       "           Maaş       Yaş  Çalışma Saati  Emeklilik Yaşı\n",
       "Sema  -0.550577 -0.436143      -1.342918       -0.872286\n",
       "Tolga -0.994354  1.661687      -0.982017        3.323375\n",
       "Melis  0.921920 -0.567407      -0.282737       -1.134814\n",
       "Venüs  0.546356 -0.406516       0.537400       -0.813033"
      ]
     },
     "execution_count": 17,
     "metadata": {},
     "output_type": "execute_result"
    }
   ],
   "source": [
    "yeniDataFrame"
   ]
  },
  {
   "cell_type": "code",
   "execution_count": 18,
   "metadata": {},
   "outputs": [],
   "source": [
    "yeniDataFrame.drop(\"Emeklilik Yaşı\", axis = 1, inplace=True)"
   ]
  },
  {
   "cell_type": "code",
   "execution_count": 19,
   "metadata": {},
   "outputs": [
    {
     "data": {
      "text/html": [
       "<div>\n",
       "<style scoped>\n",
       "    .dataframe tbody tr th:only-of-type {\n",
       "        vertical-align: middle;\n",
       "    }\n",
       "\n",
       "    .dataframe tbody tr th {\n",
       "        vertical-align: top;\n",
       "    }\n",
       "\n",
       "    .dataframe thead th {\n",
       "        text-align: right;\n",
       "    }\n",
       "</style>\n",
       "<table border=\"1\" class=\"dataframe\">\n",
       "  <thead>\n",
       "    <tr style=\"text-align: right;\">\n",
       "      <th></th>\n",
       "      <th>Maaş</th>\n",
       "      <th>Yaş</th>\n",
       "      <th>Çalışma Saati</th>\n",
       "    </tr>\n",
       "  </thead>\n",
       "  <tbody>\n",
       "    <tr>\n",
       "      <th>Sema</th>\n",
       "      <td>-0.550577</td>\n",
       "      <td>-0.436143</td>\n",
       "      <td>-1.342918</td>\n",
       "    </tr>\n",
       "    <tr>\n",
       "      <th>Tolga</th>\n",
       "      <td>-0.994354</td>\n",
       "      <td>1.661687</td>\n",
       "      <td>-0.982017</td>\n",
       "    </tr>\n",
       "    <tr>\n",
       "      <th>Melis</th>\n",
       "      <td>0.921920</td>\n",
       "      <td>-0.567407</td>\n",
       "      <td>-0.282737</td>\n",
       "    </tr>\n",
       "    <tr>\n",
       "      <th>Venüs</th>\n",
       "      <td>0.546356</td>\n",
       "      <td>-0.406516</td>\n",
       "      <td>0.537400</td>\n",
       "    </tr>\n",
       "  </tbody>\n",
       "</table>\n",
       "</div>"
      ],
      "text/plain": [
       "           Maaş       Yaş  Çalışma Saati\n",
       "Sema  -0.550577 -0.436143      -1.342918\n",
       "Tolga -0.994354  1.661687      -0.982017\n",
       "Melis  0.921920 -0.567407      -0.282737\n",
       "Venüs  0.546356 -0.406516       0.537400"
      ]
     },
     "execution_count": 19,
     "metadata": {},
     "output_type": "execute_result"
    }
   ],
   "source": [
    "yeniDataFrame"
   ]
  },
  {
   "cell_type": "code",
   "execution_count": 20,
   "metadata": {},
   "outputs": [
    {
     "data": {
      "text/plain": [
       "-0.5505774885354447"
      ]
     },
     "execution_count": 20,
     "metadata": {},
     "output_type": "execute_result"
    }
   ],
   "source": [
    "yeniDataFrame.loc[\"Sema\"][\"Maaş\"]"
   ]
  },
  {
   "cell_type": "code",
   "execution_count": 21,
   "metadata": {},
   "outputs": [
    {
     "data": {
      "text/plain": [
       "-0.5674072497255616"
      ]
     },
     "execution_count": 21,
     "metadata": {},
     "output_type": "execute_result"
    }
   ],
   "source": [
    "yeniDataFrame.loc[\"Melis\",\"Yaş\"]"
   ]
  },
  {
   "cell_type": "code",
   "execution_count": 22,
   "metadata": {},
   "outputs": [
    {
     "data": {
      "text/html": [
       "<div>\n",
       "<style scoped>\n",
       "    .dataframe tbody tr th:only-of-type {\n",
       "        vertical-align: middle;\n",
       "    }\n",
       "\n",
       "    .dataframe tbody tr th {\n",
       "        vertical-align: top;\n",
       "    }\n",
       "\n",
       "    .dataframe thead th {\n",
       "        text-align: right;\n",
       "    }\n",
       "</style>\n",
       "<table border=\"1\" class=\"dataframe\">\n",
       "  <thead>\n",
       "    <tr style=\"text-align: right;\">\n",
       "      <th></th>\n",
       "      <th>Maaş</th>\n",
       "      <th>Yaş</th>\n",
       "      <th>Çalışma Saati</th>\n",
       "    </tr>\n",
       "  </thead>\n",
       "  <tbody>\n",
       "    <tr>\n",
       "      <th>Sema</th>\n",
       "      <td>True</td>\n",
       "      <td>True</td>\n",
       "      <td>True</td>\n",
       "    </tr>\n",
       "    <tr>\n",
       "      <th>Tolga</th>\n",
       "      <td>True</td>\n",
       "      <td>False</td>\n",
       "      <td>True</td>\n",
       "    </tr>\n",
       "    <tr>\n",
       "      <th>Melis</th>\n",
       "      <td>False</td>\n",
       "      <td>True</td>\n",
       "      <td>True</td>\n",
       "    </tr>\n",
       "    <tr>\n",
       "      <th>Venüs</th>\n",
       "      <td>False</td>\n",
       "      <td>True</td>\n",
       "      <td>False</td>\n",
       "    </tr>\n",
       "  </tbody>\n",
       "</table>\n",
       "</div>"
      ],
      "text/plain": [
       "        Maaş    Yaş  Çalışma Saati\n",
       "Sema    True   True           True\n",
       "Tolga   True  False           True\n",
       "Melis  False   True           True\n",
       "Venüs  False   True          False"
      ]
     },
     "execution_count": 22,
     "metadata": {},
     "output_type": "execute_result"
    }
   ],
   "source": [
    "yeniDataFrame < 0"
   ]
  },
  {
   "cell_type": "code",
   "execution_count": 23,
   "metadata": {},
   "outputs": [],
   "source": [
    "booleanFrame = yeniDataFrame <0"
   ]
  },
  {
   "cell_type": "code",
   "execution_count": 24,
   "metadata": {},
   "outputs": [
    {
     "data": {
      "text/html": [
       "<div>\n",
       "<style scoped>\n",
       "    .dataframe tbody tr th:only-of-type {\n",
       "        vertical-align: middle;\n",
       "    }\n",
       "\n",
       "    .dataframe tbody tr th {\n",
       "        vertical-align: top;\n",
       "    }\n",
       "\n",
       "    .dataframe thead th {\n",
       "        text-align: right;\n",
       "    }\n",
       "</style>\n",
       "<table border=\"1\" class=\"dataframe\">\n",
       "  <thead>\n",
       "    <tr style=\"text-align: right;\">\n",
       "      <th></th>\n",
       "      <th>Maaş</th>\n",
       "      <th>Yaş</th>\n",
       "      <th>Çalışma Saati</th>\n",
       "    </tr>\n",
       "  </thead>\n",
       "  <tbody>\n",
       "    <tr>\n",
       "      <th>Sema</th>\n",
       "      <td>True</td>\n",
       "      <td>True</td>\n",
       "      <td>True</td>\n",
       "    </tr>\n",
       "    <tr>\n",
       "      <th>Tolga</th>\n",
       "      <td>True</td>\n",
       "      <td>False</td>\n",
       "      <td>True</td>\n",
       "    </tr>\n",
       "    <tr>\n",
       "      <th>Melis</th>\n",
       "      <td>False</td>\n",
       "      <td>True</td>\n",
       "      <td>True</td>\n",
       "    </tr>\n",
       "    <tr>\n",
       "      <th>Venüs</th>\n",
       "      <td>False</td>\n",
       "      <td>True</td>\n",
       "      <td>False</td>\n",
       "    </tr>\n",
       "  </tbody>\n",
       "</table>\n",
       "</div>"
      ],
      "text/plain": [
       "        Maaş    Yaş  Çalışma Saati\n",
       "Sema    True   True           True\n",
       "Tolga   True  False           True\n",
       "Melis  False   True           True\n",
       "Venüs  False   True          False"
      ]
     },
     "execution_count": 24,
     "metadata": {},
     "output_type": "execute_result"
    }
   ],
   "source": [
    "booleanFrame"
   ]
  },
  {
   "cell_type": "code",
   "execution_count": 25,
   "metadata": {},
   "outputs": [
    {
     "data": {
      "text/html": [
       "<div>\n",
       "<style scoped>\n",
       "    .dataframe tbody tr th:only-of-type {\n",
       "        vertical-align: middle;\n",
       "    }\n",
       "\n",
       "    .dataframe tbody tr th {\n",
       "        vertical-align: top;\n",
       "    }\n",
       "\n",
       "    .dataframe thead th {\n",
       "        text-align: right;\n",
       "    }\n",
       "</style>\n",
       "<table border=\"1\" class=\"dataframe\">\n",
       "  <thead>\n",
       "    <tr style=\"text-align: right;\">\n",
       "      <th></th>\n",
       "      <th>Maaş</th>\n",
       "      <th>Yaş</th>\n",
       "      <th>Çalışma Saati</th>\n",
       "    </tr>\n",
       "  </thead>\n",
       "  <tbody>\n",
       "    <tr>\n",
       "      <th>Sema</th>\n",
       "      <td>-0.550577</td>\n",
       "      <td>-0.436143</td>\n",
       "      <td>-1.342918</td>\n",
       "    </tr>\n",
       "    <tr>\n",
       "      <th>Tolga</th>\n",
       "      <td>-0.994354</td>\n",
       "      <td>NaN</td>\n",
       "      <td>-0.982017</td>\n",
       "    </tr>\n",
       "    <tr>\n",
       "      <th>Melis</th>\n",
       "      <td>NaN</td>\n",
       "      <td>-0.567407</td>\n",
       "      <td>-0.282737</td>\n",
       "    </tr>\n",
       "    <tr>\n",
       "      <th>Venüs</th>\n",
       "      <td>NaN</td>\n",
       "      <td>-0.406516</td>\n",
       "      <td>NaN</td>\n",
       "    </tr>\n",
       "  </tbody>\n",
       "</table>\n",
       "</div>"
      ],
      "text/plain": [
       "           Maaş       Yaş  Çalışma Saati\n",
       "Sema  -0.550577 -0.436143      -1.342918\n",
       "Tolga -0.994354       NaN      -0.982017\n",
       "Melis       NaN -0.567407      -0.282737\n",
       "Venüs       NaN -0.406516            NaN"
      ]
     },
     "execution_count": 25,
     "metadata": {},
     "output_type": "execute_result"
    }
   ],
   "source": [
    "yeniDataFrame[yeniDataFrame < 0]"
   ]
  },
  {
   "cell_type": "code",
   "execution_count": 26,
   "metadata": {},
   "outputs": [
    {
     "data": {
      "text/html": [
       "<div>\n",
       "<style scoped>\n",
       "    .dataframe tbody tr th:only-of-type {\n",
       "        vertical-align: middle;\n",
       "    }\n",
       "\n",
       "    .dataframe tbody tr th {\n",
       "        vertical-align: top;\n",
       "    }\n",
       "\n",
       "    .dataframe thead th {\n",
       "        text-align: right;\n",
       "    }\n",
       "</style>\n",
       "<table border=\"1\" class=\"dataframe\">\n",
       "  <thead>\n",
       "    <tr style=\"text-align: right;\">\n",
       "      <th></th>\n",
       "      <th>Maaş</th>\n",
       "      <th>Yaş</th>\n",
       "      <th>Çalışma Saati</th>\n",
       "    </tr>\n",
       "  </thead>\n",
       "  <tbody>\n",
       "    <tr>\n",
       "      <th>Tolga</th>\n",
       "      <td>-0.994354</td>\n",
       "      <td>1.661687</td>\n",
       "      <td>-0.982017</td>\n",
       "    </tr>\n",
       "  </tbody>\n",
       "</table>\n",
       "</div>"
      ],
      "text/plain": [
       "           Maaş       Yaş  Çalışma Saati\n",
       "Tolga -0.994354  1.661687      -0.982017"
      ]
     },
     "execution_count": 26,
     "metadata": {},
     "output_type": "execute_result"
    }
   ],
   "source": [
    "yeniDataFrame[yeniDataFrame[\"Yaş\"] > 0]"
   ]
  },
  {
   "cell_type": "code",
   "execution_count": 27,
   "metadata": {},
   "outputs": [
    {
     "data": {
      "text/html": [
       "<div>\n",
       "<style scoped>\n",
       "    .dataframe tbody tr th:only-of-type {\n",
       "        vertical-align: middle;\n",
       "    }\n",
       "\n",
       "    .dataframe tbody tr th {\n",
       "        vertical-align: top;\n",
       "    }\n",
       "\n",
       "    .dataframe thead th {\n",
       "        text-align: right;\n",
       "    }\n",
       "</style>\n",
       "<table border=\"1\" class=\"dataframe\">\n",
       "  <thead>\n",
       "    <tr style=\"text-align: right;\">\n",
       "      <th></th>\n",
       "      <th>index</th>\n",
       "      <th>Maaş</th>\n",
       "      <th>Yaş</th>\n",
       "      <th>Çalışma Saati</th>\n",
       "    </tr>\n",
       "  </thead>\n",
       "  <tbody>\n",
       "    <tr>\n",
       "      <th>0</th>\n",
       "      <td>Sema</td>\n",
       "      <td>-0.550577</td>\n",
       "      <td>-0.436143</td>\n",
       "      <td>-1.342918</td>\n",
       "    </tr>\n",
       "    <tr>\n",
       "      <th>1</th>\n",
       "      <td>Tolga</td>\n",
       "      <td>-0.994354</td>\n",
       "      <td>1.661687</td>\n",
       "      <td>-0.982017</td>\n",
       "    </tr>\n",
       "    <tr>\n",
       "      <th>2</th>\n",
       "      <td>Melis</td>\n",
       "      <td>0.921920</td>\n",
       "      <td>-0.567407</td>\n",
       "      <td>-0.282737</td>\n",
       "    </tr>\n",
       "    <tr>\n",
       "      <th>3</th>\n",
       "      <td>Venüs</td>\n",
       "      <td>0.546356</td>\n",
       "      <td>-0.406516</td>\n",
       "      <td>0.537400</td>\n",
       "    </tr>\n",
       "  </tbody>\n",
       "</table>\n",
       "</div>"
      ],
      "text/plain": [
       "   index      Maaş       Yaş  Çalışma Saati\n",
       "0   Sema -0.550577 -0.436143      -1.342918\n",
       "1  Tolga -0.994354  1.661687      -0.982017\n",
       "2  Melis  0.921920 -0.567407      -0.282737\n",
       "3  Venüs  0.546356 -0.406516       0.537400"
      ]
     },
     "execution_count": 27,
     "metadata": {},
     "output_type": "execute_result"
    }
   ],
   "source": [
    "yeniDataFrame.reset_index()"
   ]
  },
  {
   "cell_type": "code",
   "execution_count": 28,
   "metadata": {},
   "outputs": [],
   "source": [
    "yeniIndexsListesi = [\"sem\",\"tol\",\"mel\",\"ven\"]"
   ]
  },
  {
   "cell_type": "code",
   "execution_count": 29,
   "metadata": {},
   "outputs": [],
   "source": [
    "yeniDataFrame[\"Yeni Index\"] = yeniIndexsListesi"
   ]
  },
  {
   "cell_type": "code",
   "execution_count": 30,
   "metadata": {},
   "outputs": [
    {
     "data": {
      "text/html": [
       "<div>\n",
       "<style scoped>\n",
       "    .dataframe tbody tr th:only-of-type {\n",
       "        vertical-align: middle;\n",
       "    }\n",
       "\n",
       "    .dataframe tbody tr th {\n",
       "        vertical-align: top;\n",
       "    }\n",
       "\n",
       "    .dataframe thead th {\n",
       "        text-align: right;\n",
       "    }\n",
       "</style>\n",
       "<table border=\"1\" class=\"dataframe\">\n",
       "  <thead>\n",
       "    <tr style=\"text-align: right;\">\n",
       "      <th></th>\n",
       "      <th>Maaş</th>\n",
       "      <th>Yaş</th>\n",
       "      <th>Çalışma Saati</th>\n",
       "      <th>Yeni Index</th>\n",
       "    </tr>\n",
       "  </thead>\n",
       "  <tbody>\n",
       "    <tr>\n",
       "      <th>Sema</th>\n",
       "      <td>-0.550577</td>\n",
       "      <td>-0.436143</td>\n",
       "      <td>-1.342918</td>\n",
       "      <td>sem</td>\n",
       "    </tr>\n",
       "    <tr>\n",
       "      <th>Tolga</th>\n",
       "      <td>-0.994354</td>\n",
       "      <td>1.661687</td>\n",
       "      <td>-0.982017</td>\n",
       "      <td>tol</td>\n",
       "    </tr>\n",
       "    <tr>\n",
       "      <th>Melis</th>\n",
       "      <td>0.921920</td>\n",
       "      <td>-0.567407</td>\n",
       "      <td>-0.282737</td>\n",
       "      <td>mel</td>\n",
       "    </tr>\n",
       "    <tr>\n",
       "      <th>Venüs</th>\n",
       "      <td>0.546356</td>\n",
       "      <td>-0.406516</td>\n",
       "      <td>0.537400</td>\n",
       "      <td>ven</td>\n",
       "    </tr>\n",
       "  </tbody>\n",
       "</table>\n",
       "</div>"
      ],
      "text/plain": [
       "           Maaş       Yaş  Çalışma Saati Yeni Index\n",
       "Sema  -0.550577 -0.436143      -1.342918        sem\n",
       "Tolga -0.994354  1.661687      -0.982017        tol\n",
       "Melis  0.921920 -0.567407      -0.282737        mel\n",
       "Venüs  0.546356 -0.406516       0.537400        ven"
      ]
     },
     "execution_count": 30,
     "metadata": {},
     "output_type": "execute_result"
    }
   ],
   "source": [
    "yeniDataFrame"
   ]
  },
  {
   "cell_type": "code",
   "execution_count": 31,
   "metadata": {},
   "outputs": [
    {
     "data": {
      "text/html": [
       "<div>\n",
       "<style scoped>\n",
       "    .dataframe tbody tr th:only-of-type {\n",
       "        vertical-align: middle;\n",
       "    }\n",
       "\n",
       "    .dataframe tbody tr th {\n",
       "        vertical-align: top;\n",
       "    }\n",
       "\n",
       "    .dataframe thead th {\n",
       "        text-align: right;\n",
       "    }\n",
       "</style>\n",
       "<table border=\"1\" class=\"dataframe\">\n",
       "  <thead>\n",
       "    <tr style=\"text-align: right;\">\n",
       "      <th></th>\n",
       "      <th>Maaş</th>\n",
       "      <th>Yaş</th>\n",
       "      <th>Çalışma Saati</th>\n",
       "    </tr>\n",
       "    <tr>\n",
       "      <th>Yeni Index</th>\n",
       "      <th></th>\n",
       "      <th></th>\n",
       "      <th></th>\n",
       "    </tr>\n",
       "  </thead>\n",
       "  <tbody>\n",
       "    <tr>\n",
       "      <th>sem</th>\n",
       "      <td>-0.550577</td>\n",
       "      <td>-0.436143</td>\n",
       "      <td>-1.342918</td>\n",
       "    </tr>\n",
       "    <tr>\n",
       "      <th>tol</th>\n",
       "      <td>-0.994354</td>\n",
       "      <td>1.661687</td>\n",
       "      <td>-0.982017</td>\n",
       "    </tr>\n",
       "    <tr>\n",
       "      <th>mel</th>\n",
       "      <td>0.921920</td>\n",
       "      <td>-0.567407</td>\n",
       "      <td>-0.282737</td>\n",
       "    </tr>\n",
       "    <tr>\n",
       "      <th>ven</th>\n",
       "      <td>0.546356</td>\n",
       "      <td>-0.406516</td>\n",
       "      <td>0.537400</td>\n",
       "    </tr>\n",
       "  </tbody>\n",
       "</table>\n",
       "</div>"
      ],
      "text/plain": [
       "                Maaş       Yaş  Çalışma Saati\n",
       "Yeni Index                                   \n",
       "sem        -0.550577 -0.436143      -1.342918\n",
       "tol        -0.994354  1.661687      -0.982017\n",
       "mel         0.921920 -0.567407      -0.282737\n",
       "ven         0.546356 -0.406516       0.537400"
      ]
     },
     "execution_count": 31,
     "metadata": {},
     "output_type": "execute_result"
    }
   ],
   "source": [
    "yeniDataFrame.set_index(\"Yeni Index\")"
   ]
  },
  {
   "cell_type": "code",
   "execution_count": 32,
   "metadata": {},
   "outputs": [
    {
     "data": {
      "text/html": [
       "<div>\n",
       "<style scoped>\n",
       "    .dataframe tbody tr th:only-of-type {\n",
       "        vertical-align: middle;\n",
       "    }\n",
       "\n",
       "    .dataframe tbody tr th {\n",
       "        vertical-align: top;\n",
       "    }\n",
       "\n",
       "    .dataframe thead th {\n",
       "        text-align: right;\n",
       "    }\n",
       "</style>\n",
       "<table border=\"1\" class=\"dataframe\">\n",
       "  <thead>\n",
       "    <tr style=\"text-align: right;\">\n",
       "      <th></th>\n",
       "      <th>Maaş</th>\n",
       "      <th>Yaş</th>\n",
       "      <th>Çalışma Saati</th>\n",
       "      <th>Yeni Index</th>\n",
       "    </tr>\n",
       "  </thead>\n",
       "  <tbody>\n",
       "    <tr>\n",
       "      <th>Sema</th>\n",
       "      <td>-0.550577</td>\n",
       "      <td>-0.436143</td>\n",
       "      <td>-1.342918</td>\n",
       "      <td>sem</td>\n",
       "    </tr>\n",
       "    <tr>\n",
       "      <th>Tolga</th>\n",
       "      <td>-0.994354</td>\n",
       "      <td>1.661687</td>\n",
       "      <td>-0.982017</td>\n",
       "      <td>tol</td>\n",
       "    </tr>\n",
       "    <tr>\n",
       "      <th>Melis</th>\n",
       "      <td>0.921920</td>\n",
       "      <td>-0.567407</td>\n",
       "      <td>-0.282737</td>\n",
       "      <td>mel</td>\n",
       "    </tr>\n",
       "    <tr>\n",
       "      <th>Venüs</th>\n",
       "      <td>0.546356</td>\n",
       "      <td>-0.406516</td>\n",
       "      <td>0.537400</td>\n",
       "      <td>ven</td>\n",
       "    </tr>\n",
       "  </tbody>\n",
       "</table>\n",
       "</div>"
      ],
      "text/plain": [
       "           Maaş       Yaş  Çalışma Saati Yeni Index\n",
       "Sema  -0.550577 -0.436143      -1.342918        sem\n",
       "Tolga -0.994354  1.661687      -0.982017        tol\n",
       "Melis  0.921920 -0.567407      -0.282737        mel\n",
       "Venüs  0.546356 -0.406516       0.537400        ven"
      ]
     },
     "execution_count": 32,
     "metadata": {},
     "output_type": "execute_result"
    }
   ],
   "source": [
    "yeniDataFrame"
   ]
  },
  {
   "cell_type": "code",
   "execution_count": 33,
   "metadata": {},
   "outputs": [],
   "source": [
    "yeniDataFrame.set_index(\"Yeni Index\", inplace=True)"
   ]
  },
  {
   "cell_type": "code",
   "execution_count": 34,
   "metadata": {},
   "outputs": [
    {
     "data": {
      "text/html": [
       "<div>\n",
       "<style scoped>\n",
       "    .dataframe tbody tr th:only-of-type {\n",
       "        vertical-align: middle;\n",
       "    }\n",
       "\n",
       "    .dataframe tbody tr th {\n",
       "        vertical-align: top;\n",
       "    }\n",
       "\n",
       "    .dataframe thead th {\n",
       "        text-align: right;\n",
       "    }\n",
       "</style>\n",
       "<table border=\"1\" class=\"dataframe\">\n",
       "  <thead>\n",
       "    <tr style=\"text-align: right;\">\n",
       "      <th></th>\n",
       "      <th>Maaş</th>\n",
       "      <th>Yaş</th>\n",
       "      <th>Çalışma Saati</th>\n",
       "    </tr>\n",
       "    <tr>\n",
       "      <th>Yeni Index</th>\n",
       "      <th></th>\n",
       "      <th></th>\n",
       "      <th></th>\n",
       "    </tr>\n",
       "  </thead>\n",
       "  <tbody>\n",
       "    <tr>\n",
       "      <th>sem</th>\n",
       "      <td>-0.550577</td>\n",
       "      <td>-0.436143</td>\n",
       "      <td>-1.342918</td>\n",
       "    </tr>\n",
       "    <tr>\n",
       "      <th>tol</th>\n",
       "      <td>-0.994354</td>\n",
       "      <td>1.661687</td>\n",
       "      <td>-0.982017</td>\n",
       "    </tr>\n",
       "    <tr>\n",
       "      <th>mel</th>\n",
       "      <td>0.921920</td>\n",
       "      <td>-0.567407</td>\n",
       "      <td>-0.282737</td>\n",
       "    </tr>\n",
       "    <tr>\n",
       "      <th>ven</th>\n",
       "      <td>0.546356</td>\n",
       "      <td>-0.406516</td>\n",
       "      <td>0.537400</td>\n",
       "    </tr>\n",
       "  </tbody>\n",
       "</table>\n",
       "</div>"
      ],
      "text/plain": [
       "                Maaş       Yaş  Çalışma Saati\n",
       "Yeni Index                                   \n",
       "sem        -0.550577 -0.436143      -1.342918\n",
       "tol        -0.994354  1.661687      -0.982017\n",
       "mel         0.921920 -0.567407      -0.282737\n",
       "ven         0.546356 -0.406516       0.537400"
      ]
     },
     "execution_count": 34,
     "metadata": {},
     "output_type": "execute_result"
    }
   ],
   "source": [
    "yeniDataFrame"
   ]
  },
  {
   "cell_type": "markdown",
   "metadata": {},
   "source": [
    "# Multi Index"
   ]
  },
  {
   "cell_type": "code",
   "execution_count": 43,
   "metadata": {},
   "outputs": [],
   "source": [
    "ilkIndexler = [\"İnal\",\"İnal\",\"İnal\",\"İnal\",\"Köçken\",\"Köçken\",\"Köçken\",\"Köçken\"]"
   ]
  },
  {
   "cell_type": "code",
   "execution_count": 44,
   "metadata": {},
   "outputs": [],
   "source": [
    "icIndexler = [\"Sema\",\"Tolga\",\"Melis\",\"Venüs\",\"Nil\",\"Gökay\",\"Peri\",\"Pars\"]"
   ]
  },
  {
   "cell_type": "code",
   "execution_count": 45,
   "metadata": {},
   "outputs": [],
   "source": [
    "birlesmisIndex = list(zip(ilkIndexler,icIndexler))"
   ]
  },
  {
   "cell_type": "code",
   "execution_count": 46,
   "metadata": {},
   "outputs": [
    {
     "data": {
      "text/plain": [
       "[('İnal', 'Sema'),\n",
       " ('İnal', 'Tolga'),\n",
       " ('İnal', 'Melis'),\n",
       " ('İnal', 'Venüs'),\n",
       " ('Köçken', 'Nil'),\n",
       " ('Köçken', 'Gökay'),\n",
       " ('Köçken', 'Peri'),\n",
       " ('Köçken', 'Pars')]"
      ]
     },
     "execution_count": 46,
     "metadata": {},
     "output_type": "execute_result"
    }
   ],
   "source": [
    "birlesmisIndex"
   ]
  },
  {
   "cell_type": "code",
   "execution_count": 47,
   "metadata": {},
   "outputs": [],
   "source": [
    "birlesmisIndex = pd.MultiIndex.from_tuples(birlesmisIndex)"
   ]
  },
  {
   "cell_type": "code",
   "execution_count": 48,
   "metadata": {},
   "outputs": [
    {
     "data": {
      "text/plain": [
       "MultiIndex([(  'İnal',  'Sema'),\n",
       "            (  'İnal', 'Tolga'),\n",
       "            (  'İnal', 'Melis'),\n",
       "            (  'İnal', 'Venüs'),\n",
       "            ('Köçken',   'Nil'),\n",
       "            ('Köçken', 'Gökay'),\n",
       "            ('Köçken',  'Peri'),\n",
       "            ('Köçken',  'Pars')],\n",
       "           )"
      ]
     },
     "execution_count": 48,
     "metadata": {},
     "output_type": "execute_result"
    }
   ],
   "source": [
    "birlesmisIndex"
   ]
  },
  {
   "cell_type": "code",
   "execution_count": 49,
   "metadata": {},
   "outputs": [],
   "source": [
    "benimAileListem = [[35,\"a\"],[35,\"b\"],[5,\"c\"],[2,\"d\"],[35,\"e\"],[36,\"f\"],[4,\"g\"],[1,\"h\"]]"
   ]
  },
  {
   "cell_type": "code",
   "execution_count": 52,
   "metadata": {},
   "outputs": [],
   "source": [
    "benimAileNumpyDizim = np.array(benimAileListem)"
   ]
  },
  {
   "cell_type": "code",
   "execution_count": 54,
   "metadata": {},
   "outputs": [],
   "source": [
    "benimAileDataFrame = pd.DataFrame(benimAileNumpyDizim,index=birlesmisIndex,columns=[\"Yaş\",\"Meslek\"])"
   ]
  },
  {
   "cell_type": "code",
   "execution_count": 55,
   "metadata": {},
   "outputs": [
    {
     "data": {
      "text/html": [
       "<div>\n",
       "<style scoped>\n",
       "    .dataframe tbody tr th:only-of-type {\n",
       "        vertical-align: middle;\n",
       "    }\n",
       "\n",
       "    .dataframe tbody tr th {\n",
       "        vertical-align: top;\n",
       "    }\n",
       "\n",
       "    .dataframe thead th {\n",
       "        text-align: right;\n",
       "    }\n",
       "</style>\n",
       "<table border=\"1\" class=\"dataframe\">\n",
       "  <thead>\n",
       "    <tr style=\"text-align: right;\">\n",
       "      <th></th>\n",
       "      <th></th>\n",
       "      <th>Yaş</th>\n",
       "      <th>Meslek</th>\n",
       "    </tr>\n",
       "  </thead>\n",
       "  <tbody>\n",
       "    <tr>\n",
       "      <th rowspan=\"4\" valign=\"top\">İnal</th>\n",
       "      <th>Sema</th>\n",
       "      <td>35</td>\n",
       "      <td>a</td>\n",
       "    </tr>\n",
       "    <tr>\n",
       "      <th>Tolga</th>\n",
       "      <td>35</td>\n",
       "      <td>b</td>\n",
       "    </tr>\n",
       "    <tr>\n",
       "      <th>Melis</th>\n",
       "      <td>5</td>\n",
       "      <td>c</td>\n",
       "    </tr>\n",
       "    <tr>\n",
       "      <th>Venüs</th>\n",
       "      <td>2</td>\n",
       "      <td>d</td>\n",
       "    </tr>\n",
       "    <tr>\n",
       "      <th rowspan=\"4\" valign=\"top\">Köçken</th>\n",
       "      <th>Nil</th>\n",
       "      <td>35</td>\n",
       "      <td>e</td>\n",
       "    </tr>\n",
       "    <tr>\n",
       "      <th>Gökay</th>\n",
       "      <td>36</td>\n",
       "      <td>f</td>\n",
       "    </tr>\n",
       "    <tr>\n",
       "      <th>Peri</th>\n",
       "      <td>4</td>\n",
       "      <td>g</td>\n",
       "    </tr>\n",
       "    <tr>\n",
       "      <th>Pars</th>\n",
       "      <td>1</td>\n",
       "      <td>h</td>\n",
       "    </tr>\n",
       "  </tbody>\n",
       "</table>\n",
       "</div>"
      ],
      "text/plain": [
       "             Yaş Meslek\n",
       "İnal   Sema   35      a\n",
       "       Tolga  35      b\n",
       "       Melis   5      c\n",
       "       Venüs   2      d\n",
       "Köçken Nil    35      e\n",
       "       Gökay  36      f\n",
       "       Peri    4      g\n",
       "       Pars    1      h"
      ]
     },
     "execution_count": 55,
     "metadata": {},
     "output_type": "execute_result"
    }
   ],
   "source": [
    "benimAileDataFrame"
   ]
  },
  {
   "cell_type": "code",
   "execution_count": 56,
   "metadata": {},
   "outputs": [
    {
     "data": {
      "text/html": [
       "<div>\n",
       "<style scoped>\n",
       "    .dataframe tbody tr th:only-of-type {\n",
       "        vertical-align: middle;\n",
       "    }\n",
       "\n",
       "    .dataframe tbody tr th {\n",
       "        vertical-align: top;\n",
       "    }\n",
       "\n",
       "    .dataframe thead th {\n",
       "        text-align: right;\n",
       "    }\n",
       "</style>\n",
       "<table border=\"1\" class=\"dataframe\">\n",
       "  <thead>\n",
       "    <tr style=\"text-align: right;\">\n",
       "      <th></th>\n",
       "      <th>Yaş</th>\n",
       "      <th>Meslek</th>\n",
       "    </tr>\n",
       "  </thead>\n",
       "  <tbody>\n",
       "    <tr>\n",
       "      <th>Sema</th>\n",
       "      <td>35</td>\n",
       "      <td>a</td>\n",
       "    </tr>\n",
       "    <tr>\n",
       "      <th>Tolga</th>\n",
       "      <td>35</td>\n",
       "      <td>b</td>\n",
       "    </tr>\n",
       "    <tr>\n",
       "      <th>Melis</th>\n",
       "      <td>5</td>\n",
       "      <td>c</td>\n",
       "    </tr>\n",
       "    <tr>\n",
       "      <th>Venüs</th>\n",
       "      <td>2</td>\n",
       "      <td>d</td>\n",
       "    </tr>\n",
       "  </tbody>\n",
       "</table>\n",
       "</div>"
      ],
      "text/plain": [
       "      Yaş Meslek\n",
       "Sema   35      a\n",
       "Tolga  35      b\n",
       "Melis   5      c\n",
       "Venüs   2      d"
      ]
     },
     "execution_count": 56,
     "metadata": {},
     "output_type": "execute_result"
    }
   ],
   "source": [
    "benimAileDataFrame.loc[\"İnal\"]"
   ]
  },
  {
   "cell_type": "code",
   "execution_count": 57,
   "metadata": {},
   "outputs": [
    {
     "data": {
      "text/plain": [
       "Yaş       35\n",
       "Meslek     a\n",
       "Name: Sema, dtype: object"
      ]
     },
     "execution_count": 57,
     "metadata": {},
     "output_type": "execute_result"
    }
   ],
   "source": [
    "benimAileDataFrame.loc[\"İnal\"].loc[\"Sema\"]"
   ]
  },
  {
   "cell_type": "code",
   "execution_count": 58,
   "metadata": {},
   "outputs": [],
   "source": [
    "benimAileDataFrame.index.names = [\"Aile\",\"İsim\"]"
   ]
  },
  {
   "cell_type": "code",
   "execution_count": 59,
   "metadata": {},
   "outputs": [
    {
     "data": {
      "text/html": [
       "<div>\n",
       "<style scoped>\n",
       "    .dataframe tbody tr th:only-of-type {\n",
       "        vertical-align: middle;\n",
       "    }\n",
       "\n",
       "    .dataframe tbody tr th {\n",
       "        vertical-align: top;\n",
       "    }\n",
       "\n",
       "    .dataframe thead th {\n",
       "        text-align: right;\n",
       "    }\n",
       "</style>\n",
       "<table border=\"1\" class=\"dataframe\">\n",
       "  <thead>\n",
       "    <tr style=\"text-align: right;\">\n",
       "      <th></th>\n",
       "      <th></th>\n",
       "      <th>Yaş</th>\n",
       "      <th>Meslek</th>\n",
       "    </tr>\n",
       "    <tr>\n",
       "      <th>Aile</th>\n",
       "      <th>İsim</th>\n",
       "      <th></th>\n",
       "      <th></th>\n",
       "    </tr>\n",
       "  </thead>\n",
       "  <tbody>\n",
       "    <tr>\n",
       "      <th rowspan=\"4\" valign=\"top\">İnal</th>\n",
       "      <th>Sema</th>\n",
       "      <td>35</td>\n",
       "      <td>a</td>\n",
       "    </tr>\n",
       "    <tr>\n",
       "      <th>Tolga</th>\n",
       "      <td>35</td>\n",
       "      <td>b</td>\n",
       "    </tr>\n",
       "    <tr>\n",
       "      <th>Melis</th>\n",
       "      <td>5</td>\n",
       "      <td>c</td>\n",
       "    </tr>\n",
       "    <tr>\n",
       "      <th>Venüs</th>\n",
       "      <td>2</td>\n",
       "      <td>d</td>\n",
       "    </tr>\n",
       "    <tr>\n",
       "      <th rowspan=\"4\" valign=\"top\">Köçken</th>\n",
       "      <th>Nil</th>\n",
       "      <td>35</td>\n",
       "      <td>e</td>\n",
       "    </tr>\n",
       "    <tr>\n",
       "      <th>Gökay</th>\n",
       "      <td>36</td>\n",
       "      <td>f</td>\n",
       "    </tr>\n",
       "    <tr>\n",
       "      <th>Peri</th>\n",
       "      <td>4</td>\n",
       "      <td>g</td>\n",
       "    </tr>\n",
       "    <tr>\n",
       "      <th>Pars</th>\n",
       "      <td>1</td>\n",
       "      <td>h</td>\n",
       "    </tr>\n",
       "  </tbody>\n",
       "</table>\n",
       "</div>"
      ],
      "text/plain": [
       "             Yaş Meslek\n",
       "Aile   İsim            \n",
       "İnal   Sema   35      a\n",
       "       Tolga  35      b\n",
       "       Melis   5      c\n",
       "       Venüs   2      d\n",
       "Köçken Nil    35      e\n",
       "       Gökay  36      f\n",
       "       Peri    4      g\n",
       "       Pars    1      h"
      ]
     },
     "execution_count": 59,
     "metadata": {},
     "output_type": "execute_result"
    }
   ],
   "source": [
    "benimAileDataFrame"
   ]
  },
  {
   "cell_type": "code",
   "execution_count": null,
   "metadata": {},
   "outputs": [],
   "source": []
  }
 ],
 "metadata": {
  "kernelspec": {
   "display_name": "Python 3",
   "language": "python",
   "name": "python3"
  },
  "language_info": {
   "codemirror_mode": {
    "name": "ipython",
    "version": 3
   },
   "file_extension": ".py",
   "mimetype": "text/x-python",
   "name": "python",
   "nbconvert_exporter": "python",
   "pygments_lexer": "ipython3",
   "version": "3.8.5"
  }
 },
 "nbformat": 4,
 "nbformat_minor": 4
}
