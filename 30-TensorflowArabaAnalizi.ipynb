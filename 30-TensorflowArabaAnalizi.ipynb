{
 "cells": [
  {
   "cell_type": "code",
   "execution_count": 1,
   "metadata": {},
   "outputs": [],
   "source": [
    "import pandas as pd\n",
    "import numpy as np\n",
    "import matplotlib.pyplot as plt\n",
    "import seaborn as sbn"
   ]
  },
  {
   "cell_type": "code",
   "execution_count": 2,
   "metadata": {},
   "outputs": [],
   "source": [
    "dataFrame = pd.read_excel(\"merc.xlsx\")"
   ]
  },
  {
   "cell_type": "code",
   "execution_count": 3,
   "metadata": {},
   "outputs": [
    {
     "data": {
      "text/html": [
       "<div>\n",
       "<style scoped>\n",
       "    .dataframe tbody tr th:only-of-type {\n",
       "        vertical-align: middle;\n",
       "    }\n",
       "\n",
       "    .dataframe tbody tr th {\n",
       "        vertical-align: top;\n",
       "    }\n",
       "\n",
       "    .dataframe thead th {\n",
       "        text-align: right;\n",
       "    }\n",
       "</style>\n",
       "<table border=\"1\" class=\"dataframe\">\n",
       "  <thead>\n",
       "    <tr style=\"text-align: right;\">\n",
       "      <th></th>\n",
       "      <th>year</th>\n",
       "      <th>price</th>\n",
       "      <th>transmission</th>\n",
       "      <th>mileage</th>\n",
       "      <th>tax</th>\n",
       "      <th>mpg</th>\n",
       "      <th>engineSize</th>\n",
       "    </tr>\n",
       "  </thead>\n",
       "  <tbody>\n",
       "    <tr>\n",
       "      <th>0</th>\n",
       "      <td>2005</td>\n",
       "      <td>5200</td>\n",
       "      <td>Automatic</td>\n",
       "      <td>63000</td>\n",
       "      <td>325</td>\n",
       "      <td>32.1</td>\n",
       "      <td>1.8</td>\n",
       "    </tr>\n",
       "    <tr>\n",
       "      <th>1</th>\n",
       "      <td>2017</td>\n",
       "      <td>34948</td>\n",
       "      <td>Automatic</td>\n",
       "      <td>27000</td>\n",
       "      <td>20</td>\n",
       "      <td>61.4</td>\n",
       "      <td>2.1</td>\n",
       "    </tr>\n",
       "    <tr>\n",
       "      <th>2</th>\n",
       "      <td>2016</td>\n",
       "      <td>49948</td>\n",
       "      <td>Automatic</td>\n",
       "      <td>6200</td>\n",
       "      <td>555</td>\n",
       "      <td>28.0</td>\n",
       "      <td>5.5</td>\n",
       "    </tr>\n",
       "    <tr>\n",
       "      <th>3</th>\n",
       "      <td>2016</td>\n",
       "      <td>61948</td>\n",
       "      <td>Automatic</td>\n",
       "      <td>16000</td>\n",
       "      <td>325</td>\n",
       "      <td>30.4</td>\n",
       "      <td>4.0</td>\n",
       "    </tr>\n",
       "    <tr>\n",
       "      <th>4</th>\n",
       "      <td>2016</td>\n",
       "      <td>73948</td>\n",
       "      <td>Automatic</td>\n",
       "      <td>4000</td>\n",
       "      <td>325</td>\n",
       "      <td>30.1</td>\n",
       "      <td>4.0</td>\n",
       "    </tr>\n",
       "    <tr>\n",
       "      <th>...</th>\n",
       "      <td>...</td>\n",
       "      <td>...</td>\n",
       "      <td>...</td>\n",
       "      <td>...</td>\n",
       "      <td>...</td>\n",
       "      <td>...</td>\n",
       "      <td>...</td>\n",
       "    </tr>\n",
       "    <tr>\n",
       "      <th>13114</th>\n",
       "      <td>2020</td>\n",
       "      <td>35999</td>\n",
       "      <td>Automatic</td>\n",
       "      <td>500</td>\n",
       "      <td>145</td>\n",
       "      <td>55.4</td>\n",
       "      <td>2.0</td>\n",
       "    </tr>\n",
       "    <tr>\n",
       "      <th>13115</th>\n",
       "      <td>2020</td>\n",
       "      <td>24699</td>\n",
       "      <td>Automatic</td>\n",
       "      <td>2500</td>\n",
       "      <td>145</td>\n",
       "      <td>55.4</td>\n",
       "      <td>2.0</td>\n",
       "    </tr>\n",
       "    <tr>\n",
       "      <th>13116</th>\n",
       "      <td>2019</td>\n",
       "      <td>30999</td>\n",
       "      <td>Automatic</td>\n",
       "      <td>11612</td>\n",
       "      <td>145</td>\n",
       "      <td>41.5</td>\n",
       "      <td>2.1</td>\n",
       "    </tr>\n",
       "    <tr>\n",
       "      <th>13117</th>\n",
       "      <td>2019</td>\n",
       "      <td>37990</td>\n",
       "      <td>Automatic</td>\n",
       "      <td>2426</td>\n",
       "      <td>145</td>\n",
       "      <td>45.6</td>\n",
       "      <td>2.0</td>\n",
       "    </tr>\n",
       "    <tr>\n",
       "      <th>13118</th>\n",
       "      <td>2019</td>\n",
       "      <td>54999</td>\n",
       "      <td>Automatic</td>\n",
       "      <td>2075</td>\n",
       "      <td>145</td>\n",
       "      <td>52.3</td>\n",
       "      <td>2.9</td>\n",
       "    </tr>\n",
       "  </tbody>\n",
       "</table>\n",
       "<p>13119 rows × 7 columns</p>\n",
       "</div>"
      ],
      "text/plain": [
       "       year  price transmission  mileage  tax   mpg  engineSize\n",
       "0      2005   5200    Automatic    63000  325  32.1         1.8\n",
       "1      2017  34948    Automatic    27000   20  61.4         2.1\n",
       "2      2016  49948    Automatic     6200  555  28.0         5.5\n",
       "3      2016  61948    Automatic    16000  325  30.4         4.0\n",
       "4      2016  73948    Automatic     4000  325  30.1         4.0\n",
       "...     ...    ...          ...      ...  ...   ...         ...\n",
       "13114  2020  35999    Automatic      500  145  55.4         2.0\n",
       "13115  2020  24699    Automatic     2500  145  55.4         2.0\n",
       "13116  2019  30999    Automatic    11612  145  41.5         2.1\n",
       "13117  2019  37990    Automatic     2426  145  45.6         2.0\n",
       "13118  2019  54999    Automatic     2075  145  52.3         2.9\n",
       "\n",
       "[13119 rows x 7 columns]"
      ]
     },
     "execution_count": 3,
     "metadata": {},
     "output_type": "execute_result"
    }
   ],
   "source": [
    "dataFrame"
   ]
  },
  {
   "cell_type": "code",
   "execution_count": 4,
   "metadata": {},
   "outputs": [
    {
     "data": {
      "text/html": [
       "<div>\n",
       "<style scoped>\n",
       "    .dataframe tbody tr th:only-of-type {\n",
       "        vertical-align: middle;\n",
       "    }\n",
       "\n",
       "    .dataframe tbody tr th {\n",
       "        vertical-align: top;\n",
       "    }\n",
       "\n",
       "    .dataframe thead th {\n",
       "        text-align: right;\n",
       "    }\n",
       "</style>\n",
       "<table border=\"1\" class=\"dataframe\">\n",
       "  <thead>\n",
       "    <tr style=\"text-align: right;\">\n",
       "      <th></th>\n",
       "      <th>year</th>\n",
       "      <th>price</th>\n",
       "      <th>mileage</th>\n",
       "      <th>tax</th>\n",
       "      <th>mpg</th>\n",
       "      <th>engineSize</th>\n",
       "    </tr>\n",
       "  </thead>\n",
       "  <tbody>\n",
       "    <tr>\n",
       "      <th>count</th>\n",
       "      <td>13119.000000</td>\n",
       "      <td>13119.000000</td>\n",
       "      <td>13119.000000</td>\n",
       "      <td>13119.000000</td>\n",
       "      <td>13119.000000</td>\n",
       "      <td>13119.000000</td>\n",
       "    </tr>\n",
       "    <tr>\n",
       "      <th>mean</th>\n",
       "      <td>2017.296288</td>\n",
       "      <td>24698.596920</td>\n",
       "      <td>21949.559037</td>\n",
       "      <td>129.972178</td>\n",
       "      <td>55.155843</td>\n",
       "      <td>2.071530</td>\n",
       "    </tr>\n",
       "    <tr>\n",
       "      <th>std</th>\n",
       "      <td>2.224709</td>\n",
       "      <td>11842.675542</td>\n",
       "      <td>21176.512267</td>\n",
       "      <td>65.260286</td>\n",
       "      <td>15.220082</td>\n",
       "      <td>0.572426</td>\n",
       "    </tr>\n",
       "    <tr>\n",
       "      <th>min</th>\n",
       "      <td>1970.000000</td>\n",
       "      <td>650.000000</td>\n",
       "      <td>1.000000</td>\n",
       "      <td>0.000000</td>\n",
       "      <td>1.100000</td>\n",
       "      <td>0.000000</td>\n",
       "    </tr>\n",
       "    <tr>\n",
       "      <th>25%</th>\n",
       "      <td>2016.000000</td>\n",
       "      <td>17450.000000</td>\n",
       "      <td>6097.500000</td>\n",
       "      <td>125.000000</td>\n",
       "      <td>45.600000</td>\n",
       "      <td>1.800000</td>\n",
       "    </tr>\n",
       "    <tr>\n",
       "      <th>50%</th>\n",
       "      <td>2018.000000</td>\n",
       "      <td>22480.000000</td>\n",
       "      <td>15189.000000</td>\n",
       "      <td>145.000000</td>\n",
       "      <td>56.500000</td>\n",
       "      <td>2.000000</td>\n",
       "    </tr>\n",
       "    <tr>\n",
       "      <th>75%</th>\n",
       "      <td>2019.000000</td>\n",
       "      <td>28980.000000</td>\n",
       "      <td>31779.500000</td>\n",
       "      <td>145.000000</td>\n",
       "      <td>64.200000</td>\n",
       "      <td>2.100000</td>\n",
       "    </tr>\n",
       "    <tr>\n",
       "      <th>max</th>\n",
       "      <td>2020.000000</td>\n",
       "      <td>159999.000000</td>\n",
       "      <td>259000.000000</td>\n",
       "      <td>580.000000</td>\n",
       "      <td>217.300000</td>\n",
       "      <td>6.200000</td>\n",
       "    </tr>\n",
       "  </tbody>\n",
       "</table>\n",
       "</div>"
      ],
      "text/plain": [
       "               year          price        mileage           tax           mpg  \\\n",
       "count  13119.000000   13119.000000   13119.000000  13119.000000  13119.000000   \n",
       "mean    2017.296288   24698.596920   21949.559037    129.972178     55.155843   \n",
       "std        2.224709   11842.675542   21176.512267     65.260286     15.220082   \n",
       "min     1970.000000     650.000000       1.000000      0.000000      1.100000   \n",
       "25%     2016.000000   17450.000000    6097.500000    125.000000     45.600000   \n",
       "50%     2018.000000   22480.000000   15189.000000    145.000000     56.500000   \n",
       "75%     2019.000000   28980.000000   31779.500000    145.000000     64.200000   \n",
       "max     2020.000000  159999.000000  259000.000000    580.000000    217.300000   \n",
       "\n",
       "         engineSize  \n",
       "count  13119.000000  \n",
       "mean       2.071530  \n",
       "std        0.572426  \n",
       "min        0.000000  \n",
       "25%        1.800000  \n",
       "50%        2.000000  \n",
       "75%        2.100000  \n",
       "max        6.200000  "
      ]
     },
     "execution_count": 4,
     "metadata": {},
     "output_type": "execute_result"
    }
   ],
   "source": [
    "dataFrame.describe()"
   ]
  },
  {
   "cell_type": "code",
   "execution_count": 5,
   "metadata": {},
   "outputs": [
    {
     "data": {
      "text/plain": [
       "year            0\n",
       "price           0\n",
       "transmission    0\n",
       "mileage         0\n",
       "tax             0\n",
       "mpg             0\n",
       "engineSize      0\n",
       "dtype: int64"
      ]
     },
     "execution_count": 5,
     "metadata": {},
     "output_type": "execute_result"
    }
   ],
   "source": [
    "dataFrame.isnull().sum()"
   ]
  },
  {
   "cell_type": "code",
   "execution_count": 6,
   "metadata": {},
   "outputs": [
    {
     "name": "stderr",
     "output_type": "stream",
     "text": [
      "C:\\ProgramData\\Anaconda3\\lib\\site-packages\\seaborn\\distributions.py:2551: FutureWarning: `distplot` is a deprecated function and will be removed in a future version. Please adapt your code to use either `displot` (a figure-level function with similar flexibility) or `histplot` (an axes-level function for histograms).\n",
      "  warnings.warn(msg, FutureWarning)\n"
     ]
    },
    {
     "data": {
      "text/plain": [
       "<AxesSubplot:xlabel='price', ylabel='Density'>"
      ]
     },
     "execution_count": 6,
     "metadata": {},
     "output_type": "execute_result"
    },
    {
     "data": {
      "image/png": "[encoded data removed]",
      "text/plain": [
       "<Figure size 504x360 with 1 Axes>"
      ]
     },
     "metadata": {
      "needs_background": "light"
     },
     "output_type": "display_data"
    }
   ],
   "source": [
    "plt.figure(figsize= (7,5))\n",
    "sbn.distplot(dataFrame[\"price\"])"
   ]
  },
  {
   "cell_type": "code",
   "execution_count": 7,
   "metadata": {},
   "outputs": [
    {
     "name": "stderr",
     "output_type": "stream",
     "text": [
      "C:\\ProgramData\\Anaconda3\\lib\\site-packages\\seaborn\\_decorators.py:36: FutureWarning: Pass the following variable as a keyword arg: x. From version 0.12, the only valid positional argument will be `data`, and passing other arguments without an explicit keyword will result in an error or misinterpretation.\n",
      "  warnings.warn(\n"
     ]
    },
    {
     "data": {
      "text/plain": [
       "<AxesSubplot:xlabel='year', ylabel='count'>"
      ]
     },
     "execution_count": 7,
     "metadata": {},
     "output_type": "execute_result"
    },
    {
     "data": {
      "image/png": "[encoded data removed]",
      "text/plain": [
       "<Figure size 432x288 with 1 Axes>"
      ]
     },
     "metadata": {
      "needs_background": "light"
     },
     "output_type": "display_data"
    }
   ],
   "source": [
    "sbn.countplot(dataFrame[\"year\"])"
   ]
  },
  {
   "cell_type": "code",
   "execution_count": 8,
   "metadata": {},
   "outputs": [
    {
     "data": {
      "text/html": [
       "<div>\n",
       "<style scoped>\n",
       "    .dataframe tbody tr th:only-of-type {\n",
       "        vertical-align: middle;\n",
       "    }\n",
       "\n",
       "    .dataframe tbody tr th {\n",
       "        vertical-align: top;\n",
       "    }\n",
       "\n",
       "    .dataframe thead th {\n",
       "        text-align: right;\n",
       "    }\n",
       "</style>\n",
       "<table border=\"1\" class=\"dataframe\">\n",
       "  <thead>\n",
       "    <tr style=\"text-align: right;\">\n",
       "      <th></th>\n",
       "      <th>year</th>\n",
       "      <th>price</th>\n",
       "      <th>mileage</th>\n",
       "      <th>tax</th>\n",
       "      <th>mpg</th>\n",
       "      <th>engineSize</th>\n",
       "    </tr>\n",
       "  </thead>\n",
       "  <tbody>\n",
       "    <tr>\n",
       "      <th>year</th>\n",
       "      <td>1.000000</td>\n",
       "      <td>0.520712</td>\n",
       "      <td>-0.738027</td>\n",
       "      <td>0.012480</td>\n",
       "      <td>-0.094626</td>\n",
       "      <td>-0.142147</td>\n",
       "    </tr>\n",
       "    <tr>\n",
       "      <th>price</th>\n",
       "      <td>0.520712</td>\n",
       "      <td>1.000000</td>\n",
       "      <td>-0.537214</td>\n",
       "      <td>0.268717</td>\n",
       "      <td>-0.438445</td>\n",
       "      <td>0.516126</td>\n",
       "    </tr>\n",
       "    <tr>\n",
       "      <th>mileage</th>\n",
       "      <td>-0.738027</td>\n",
       "      <td>-0.537214</td>\n",
       "      <td>1.000000</td>\n",
       "      <td>-0.160223</td>\n",
       "      <td>0.202850</td>\n",
       "      <td>0.063652</td>\n",
       "    </tr>\n",
       "    <tr>\n",
       "      <th>tax</th>\n",
       "      <td>0.012480</td>\n",
       "      <td>0.268717</td>\n",
       "      <td>-0.160223</td>\n",
       "      <td>1.000000</td>\n",
       "      <td>-0.513742</td>\n",
       "      <td>0.338341</td>\n",
       "    </tr>\n",
       "    <tr>\n",
       "      <th>mpg</th>\n",
       "      <td>-0.094626</td>\n",
       "      <td>-0.438445</td>\n",
       "      <td>0.202850</td>\n",
       "      <td>-0.513742</td>\n",
       "      <td>1.000000</td>\n",
       "      <td>-0.339862</td>\n",
       "    </tr>\n",
       "    <tr>\n",
       "      <th>engineSize</th>\n",
       "      <td>-0.142147</td>\n",
       "      <td>0.516126</td>\n",
       "      <td>0.063652</td>\n",
       "      <td>0.338341</td>\n",
       "      <td>-0.339862</td>\n",
       "      <td>1.000000</td>\n",
       "    </tr>\n",
       "  </tbody>\n",
       "</table>\n",
       "</div>"
      ],
      "text/plain": [
       "                year     price   mileage       tax       mpg  engineSize\n",
       "year        1.000000  0.520712 -0.738027  0.012480 -0.094626   -0.142147\n",
       "price       0.520712  1.000000 -0.537214  0.268717 -0.438445    0.516126\n",
       "mileage    -0.738027 -0.537214  1.000000 -0.160223  0.202850    0.063652\n",
       "tax         0.012480  0.268717 -0.160223  1.000000 -0.513742    0.338341\n",
       "mpg        -0.094626 -0.438445  0.202850 -0.513742  1.000000   -0.339862\n",
       "engineSize -0.142147  0.516126  0.063652  0.338341 -0.339862    1.000000"
      ]
     },
     "execution_count": 8,
     "metadata": {},
     "output_type": "execute_result"
    }
   ],
   "source": [
    "dataFrame.corr()"
   ]
  },
  {
   "cell_type": "code",
   "execution_count": 9,
   "metadata": {},
   "outputs": [
    {
     "data": {
      "text/plain": [
       "mileage      -0.537214\n",
       "mpg          -0.438445\n",
       "tax           0.268717\n",
       "engineSize    0.516126\n",
       "year          0.520712\n",
       "price         1.000000\n",
       "Name: price, dtype: float64"
      ]
     },
     "execution_count": 9,
     "metadata": {},
     "output_type": "execute_result"
    }
   ],
   "source": [
    "dataFrame.corr()[\"price\"].sort_values()"
   ]
  },
  {
   "cell_type": "code",
   "execution_count": 10,
   "metadata": {},
   "outputs": [
    {
     "data": {
      "text/plain": [
       "<AxesSubplot:xlabel='mileage', ylabel='price'>"
      ]
     },
     "execution_count": 10,
     "metadata": {},
     "output_type": "execute_result"
    },
    {
     "data": {
      "image/png": "[encoded data removed]",
      "text/plain": [
       "<Figure size 432x288 with 1 Axes>"
      ]
     },
     "metadata": {
      "needs_background": "light"
     },
     "output_type": "display_data"
    }
   ],
   "source": [
    "sbn.scatterplot(x=\"mileage\", y=\"price\", data=dataFrame)"
   ]
  },
  {
   "cell_type": "code",
   "execution_count": 11,
   "metadata": {},
   "outputs": [
    {
     "data": {
      "text/html": [
       "<div>\n",
       "<style scoped>\n",
       "    .dataframe tbody tr th:only-of-type {\n",
       "        vertical-align: middle;\n",
       "    }\n",
       "\n",
       "    .dataframe tbody tr th {\n",
       "        vertical-align: top;\n",
       "    }\n",
       "\n",
       "    .dataframe thead th {\n",
       "        text-align: right;\n",
       "    }\n",
       "</style>\n",
       "<table border=\"1\" class=\"dataframe\">\n",
       "  <thead>\n",
       "    <tr style=\"text-align: right;\">\n",
       "      <th></th>\n",
       "      <th>year</th>\n",
       "      <th>price</th>\n",
       "      <th>transmission</th>\n",
       "      <th>mileage</th>\n",
       "      <th>tax</th>\n",
       "      <th>mpg</th>\n",
       "      <th>engineSize</th>\n",
       "    </tr>\n",
       "  </thead>\n",
       "  <tbody>\n",
       "    <tr>\n",
       "      <th>6199</th>\n",
       "      <td>2020</td>\n",
       "      <td>159999</td>\n",
       "      <td>Semi-Auto</td>\n",
       "      <td>1350</td>\n",
       "      <td>145</td>\n",
       "      <td>21.4</td>\n",
       "      <td>4.0</td>\n",
       "    </tr>\n",
       "    <tr>\n",
       "      <th>10044</th>\n",
       "      <td>2020</td>\n",
       "      <td>154998</td>\n",
       "      <td>Automatic</td>\n",
       "      <td>3000</td>\n",
       "      <td>150</td>\n",
       "      <td>21.4</td>\n",
       "      <td>4.0</td>\n",
       "    </tr>\n",
       "    <tr>\n",
       "      <th>5</th>\n",
       "      <td>2011</td>\n",
       "      <td>149948</td>\n",
       "      <td>Automatic</td>\n",
       "      <td>3000</td>\n",
       "      <td>570</td>\n",
       "      <td>21.4</td>\n",
       "      <td>6.2</td>\n",
       "    </tr>\n",
       "    <tr>\n",
       "      <th>8737</th>\n",
       "      <td>2019</td>\n",
       "      <td>140319</td>\n",
       "      <td>Semi-Auto</td>\n",
       "      <td>785</td>\n",
       "      <td>150</td>\n",
       "      <td>22.1</td>\n",
       "      <td>4.0</td>\n",
       "    </tr>\n",
       "    <tr>\n",
       "      <th>6386</th>\n",
       "      <td>2018</td>\n",
       "      <td>139995</td>\n",
       "      <td>Semi-Auto</td>\n",
       "      <td>13046</td>\n",
       "      <td>145</td>\n",
       "      <td>21.4</td>\n",
       "      <td>4.0</td>\n",
       "    </tr>\n",
       "    <tr>\n",
       "      <th>8</th>\n",
       "      <td>2019</td>\n",
       "      <td>139948</td>\n",
       "      <td>Automatic</td>\n",
       "      <td>12000</td>\n",
       "      <td>145</td>\n",
       "      <td>21.4</td>\n",
       "      <td>4.0</td>\n",
       "    </tr>\n",
       "    <tr>\n",
       "      <th>9133</th>\n",
       "      <td>2019</td>\n",
       "      <td>139559</td>\n",
       "      <td>Semi-Auto</td>\n",
       "      <td>1000</td>\n",
       "      <td>145</td>\n",
       "      <td>22.1</td>\n",
       "      <td>4.0</td>\n",
       "    </tr>\n",
       "    <tr>\n",
       "      <th>8821</th>\n",
       "      <td>2020</td>\n",
       "      <td>138439</td>\n",
       "      <td>Semi-Auto</td>\n",
       "      <td>1000</td>\n",
       "      <td>145</td>\n",
       "      <td>22.1</td>\n",
       "      <td>4.0</td>\n",
       "    </tr>\n",
       "    <tr>\n",
       "      <th>5902</th>\n",
       "      <td>2018</td>\n",
       "      <td>135771</td>\n",
       "      <td>Semi-Auto</td>\n",
       "      <td>19000</td>\n",
       "      <td>145</td>\n",
       "      <td>21.4</td>\n",
       "      <td>4.0</td>\n",
       "    </tr>\n",
       "    <tr>\n",
       "      <th>7864</th>\n",
       "      <td>2018</td>\n",
       "      <td>135124</td>\n",
       "      <td>Semi-Auto</td>\n",
       "      <td>18234</td>\n",
       "      <td>150</td>\n",
       "      <td>21.4</td>\n",
       "      <td>4.0</td>\n",
       "    </tr>\n",
       "    <tr>\n",
       "      <th>8673</th>\n",
       "      <td>2019</td>\n",
       "      <td>134219</td>\n",
       "      <td>Semi-Auto</td>\n",
       "      <td>1000</td>\n",
       "      <td>145</td>\n",
       "      <td>24.8</td>\n",
       "      <td>4.0</td>\n",
       "    </tr>\n",
       "    <tr>\n",
       "      <th>6210</th>\n",
       "      <td>2019</td>\n",
       "      <td>129990</td>\n",
       "      <td>Automatic</td>\n",
       "      <td>1000</td>\n",
       "      <td>145</td>\n",
       "      <td>24.8</td>\n",
       "      <td>4.0</td>\n",
       "    </tr>\n",
       "    <tr>\n",
       "      <th>4759</th>\n",
       "      <td>2019</td>\n",
       "      <td>126000</td>\n",
       "      <td>Automatic</td>\n",
       "      <td>250</td>\n",
       "      <td>145</td>\n",
       "      <td>24.6</td>\n",
       "      <td>4.0</td>\n",
       "    </tr>\n",
       "    <tr>\n",
       "      <th>2647</th>\n",
       "      <td>2019</td>\n",
       "      <td>125796</td>\n",
       "      <td>Automatic</td>\n",
       "      <td>637</td>\n",
       "      <td>145</td>\n",
       "      <td>24.8</td>\n",
       "      <td>4.0</td>\n",
       "    </tr>\n",
       "    <tr>\n",
       "      <th>6223</th>\n",
       "      <td>2019</td>\n",
       "      <td>124999</td>\n",
       "      <td>Automatic</td>\n",
       "      <td>1500</td>\n",
       "      <td>145</td>\n",
       "      <td>31.7</td>\n",
       "      <td>4.0</td>\n",
       "    </tr>\n",
       "    <tr>\n",
       "      <th>4094</th>\n",
       "      <td>2019</td>\n",
       "      <td>124366</td>\n",
       "      <td>Semi-Auto</td>\n",
       "      <td>880</td>\n",
       "      <td>145</td>\n",
       "      <td>24.8</td>\n",
       "      <td>4.0</td>\n",
       "    </tr>\n",
       "    <tr>\n",
       "      <th>2629</th>\n",
       "      <td>2019</td>\n",
       "      <td>123846</td>\n",
       "      <td>Semi-Auto</td>\n",
       "      <td>2951</td>\n",
       "      <td>145</td>\n",
       "      <td>22.1</td>\n",
       "      <td>4.0</td>\n",
       "    </tr>\n",
       "    <tr>\n",
       "      <th>7134</th>\n",
       "      <td>2019</td>\n",
       "      <td>115359</td>\n",
       "      <td>Semi-Auto</td>\n",
       "      <td>1000</td>\n",
       "      <td>145</td>\n",
       "      <td>30.1</td>\n",
       "      <td>4.0</td>\n",
       "    </tr>\n",
       "    <tr>\n",
       "      <th>9159</th>\n",
       "      <td>2019</td>\n",
       "      <td>114199</td>\n",
       "      <td>Semi-Auto</td>\n",
       "      <td>891</td>\n",
       "      <td>145</td>\n",
       "      <td>22.6</td>\n",
       "      <td>4.0</td>\n",
       "    </tr>\n",
       "    <tr>\n",
       "      <th>1980</th>\n",
       "      <td>2019</td>\n",
       "      <td>109995</td>\n",
       "      <td>Semi-Auto</td>\n",
       "      <td>4688</td>\n",
       "      <td>150</td>\n",
       "      <td>31.7</td>\n",
       "      <td>4.0</td>\n",
       "    </tr>\n",
       "  </tbody>\n",
       "</table>\n",
       "</div>"
      ],
      "text/plain": [
       "       year   price transmission  mileage  tax   mpg  engineSize\n",
       "6199   2020  159999    Semi-Auto     1350  145  21.4         4.0\n",
       "10044  2020  154998    Automatic     3000  150  21.4         4.0\n",
       "5      2011  149948    Automatic     3000  570  21.4         6.2\n",
       "8737   2019  140319    Semi-Auto      785  150  22.1         4.0\n",
       "6386   2018  139995    Semi-Auto    13046  145  21.4         4.0\n",
       "8      2019  139948    Automatic    12000  145  21.4         4.0\n",
       "9133   2019  139559    Semi-Auto     1000  145  22.1         4.0\n",
       "8821   2020  138439    Semi-Auto     1000  145  22.1         4.0\n",
       "5902   2018  135771    Semi-Auto    19000  145  21.4         4.0\n",
       "7864   2018  135124    Semi-Auto    18234  150  21.4         4.0\n",
       "8673   2019  134219    Semi-Auto     1000  145  24.8         4.0\n",
       "6210   2019  129990    Automatic     1000  145  24.8         4.0\n",
       "4759   2019  126000    Automatic      250  145  24.6         4.0\n",
       "2647   2019  125796    Automatic      637  145  24.8         4.0\n",
       "6223   2019  124999    Automatic     1500  145  31.7         4.0\n",
       "4094   2019  124366    Semi-Auto      880  145  24.8         4.0\n",
       "2629   2019  123846    Semi-Auto     2951  145  22.1         4.0\n",
       "7134   2019  115359    Semi-Auto     1000  145  30.1         4.0\n",
       "9159   2019  114199    Semi-Auto      891  145  22.6         4.0\n",
       "1980   2019  109995    Semi-Auto     4688  150  31.7         4.0"
      ]
     },
     "execution_count": 11,
     "metadata": {},
     "output_type": "execute_result"
    }
   ],
   "source": [
    "dataFrame.sort_values(\"price\", ascending =False).head(20)"
   ]
  },
  {
   "cell_type": "code",
   "execution_count": 12,
   "metadata": {},
   "outputs": [
    {
     "data": {
      "text/plain": [
       "13119"
      ]
     },
     "execution_count": 12,
     "metadata": {},
     "output_type": "execute_result"
    }
   ],
   "source": [
    "len(dataFrame)"
   ]
  },
  {
   "cell_type": "code",
   "execution_count": 13,
   "metadata": {},
   "outputs": [
    {
     "data": {
      "text/plain": [
       "131.19"
      ]
     },
     "execution_count": 13,
     "metadata": {},
     "output_type": "execute_result"
    }
   ],
   "source": [
    "len(dataFrame) * 0.01"
   ]
  },
  {
   "cell_type": "code",
   "execution_count": 14,
   "metadata": {},
   "outputs": [],
   "source": [
    "yuzdeDoksanDokuzDf = dataFrame.sort_values(\"price\", ascending=False).iloc[131:]"
   ]
  },
  {
   "cell_type": "code",
   "execution_count": 15,
   "metadata": {},
   "outputs": [
    {
     "data": {
      "text/html": [
       "<div>\n",
       "<style scoped>\n",
       "    .dataframe tbody tr th:only-of-type {\n",
       "        vertical-align: middle;\n",
       "    }\n",
       "\n",
       "    .dataframe tbody tr th {\n",
       "        vertical-align: top;\n",
       "    }\n",
       "\n",
       "    .dataframe thead th {\n",
       "        text-align: right;\n",
       "    }\n",
       "</style>\n",
       "<table border=\"1\" class=\"dataframe\">\n",
       "  <thead>\n",
       "    <tr style=\"text-align: right;\">\n",
       "      <th></th>\n",
       "      <th>year</th>\n",
       "      <th>price</th>\n",
       "      <th>transmission</th>\n",
       "      <th>mileage</th>\n",
       "      <th>tax</th>\n",
       "      <th>mpg</th>\n",
       "      <th>engineSize</th>\n",
       "    </tr>\n",
       "  </thead>\n",
       "  <tbody>\n",
       "    <tr>\n",
       "      <th>6177</th>\n",
       "      <td>2019</td>\n",
       "      <td>65990</td>\n",
       "      <td>Semi-Auto</td>\n",
       "      <td>5076</td>\n",
       "      <td>150</td>\n",
       "      <td>30.4</td>\n",
       "      <td>3.0</td>\n",
       "    </tr>\n",
       "    <tr>\n",
       "      <th>5779</th>\n",
       "      <td>2020</td>\n",
       "      <td>65990</td>\n",
       "      <td>Semi-Auto</td>\n",
       "      <td>999</td>\n",
       "      <td>145</td>\n",
       "      <td>28.0</td>\n",
       "      <td>4.0</td>\n",
       "    </tr>\n",
       "    <tr>\n",
       "      <th>3191</th>\n",
       "      <td>2020</td>\n",
       "      <td>65980</td>\n",
       "      <td>Semi-Auto</td>\n",
       "      <td>3999</td>\n",
       "      <td>145</td>\n",
       "      <td>28.0</td>\n",
       "      <td>4.0</td>\n",
       "    </tr>\n",
       "    <tr>\n",
       "      <th>4727</th>\n",
       "      <td>2019</td>\n",
       "      <td>65000</td>\n",
       "      <td>Semi-Auto</td>\n",
       "      <td>3398</td>\n",
       "      <td>145</td>\n",
       "      <td>27.2</td>\n",
       "      <td>4.0</td>\n",
       "    </tr>\n",
       "    <tr>\n",
       "      <th>8814</th>\n",
       "      <td>2019</td>\n",
       "      <td>64999</td>\n",
       "      <td>Semi-Auto</td>\n",
       "      <td>119</td>\n",
       "      <td>145</td>\n",
       "      <td>40.9</td>\n",
       "      <td>3.0</td>\n",
       "    </tr>\n",
       "    <tr>\n",
       "      <th>...</th>\n",
       "      <td>...</td>\n",
       "      <td>...</td>\n",
       "      <td>...</td>\n",
       "      <td>...</td>\n",
       "      <td>...</td>\n",
       "      <td>...</td>\n",
       "      <td>...</td>\n",
       "    </tr>\n",
       "    <tr>\n",
       "      <th>11549</th>\n",
       "      <td>2002</td>\n",
       "      <td>1495</td>\n",
       "      <td>Automatic</td>\n",
       "      <td>13800</td>\n",
       "      <td>305</td>\n",
       "      <td>39.8</td>\n",
       "      <td>2.7</td>\n",
       "    </tr>\n",
       "    <tr>\n",
       "      <th>12594</th>\n",
       "      <td>2004</td>\n",
       "      <td>1495</td>\n",
       "      <td>Manual</td>\n",
       "      <td>119000</td>\n",
       "      <td>300</td>\n",
       "      <td>34.5</td>\n",
       "      <td>1.8</td>\n",
       "    </tr>\n",
       "    <tr>\n",
       "      <th>11765</th>\n",
       "      <td>2000</td>\n",
       "      <td>1490</td>\n",
       "      <td>Automatic</td>\n",
       "      <td>87000</td>\n",
       "      <td>265</td>\n",
       "      <td>27.2</td>\n",
       "      <td>3.2</td>\n",
       "    </tr>\n",
       "    <tr>\n",
       "      <th>12008</th>\n",
       "      <td>2010</td>\n",
       "      <td>1350</td>\n",
       "      <td>Manual</td>\n",
       "      <td>116126</td>\n",
       "      <td>145</td>\n",
       "      <td>54.3</td>\n",
       "      <td>2.0</td>\n",
       "    </tr>\n",
       "    <tr>\n",
       "      <th>11816</th>\n",
       "      <td>2003</td>\n",
       "      <td>650</td>\n",
       "      <td>Manual</td>\n",
       "      <td>109090</td>\n",
       "      <td>235</td>\n",
       "      <td>40.0</td>\n",
       "      <td>1.4</td>\n",
       "    </tr>\n",
       "  </tbody>\n",
       "</table>\n",
       "<p>12988 rows × 7 columns</p>\n",
       "</div>"
      ],
      "text/plain": [
       "       year  price transmission  mileage  tax   mpg  engineSize\n",
       "6177   2019  65990    Semi-Auto     5076  150  30.4         3.0\n",
       "5779   2020  65990    Semi-Auto      999  145  28.0         4.0\n",
       "3191   2020  65980    Semi-Auto     3999  145  28.0         4.0\n",
       "4727   2019  65000    Semi-Auto     3398  145  27.2         4.0\n",
       "8814   2019  64999    Semi-Auto      119  145  40.9         3.0\n",
       "...     ...    ...          ...      ...  ...   ...         ...\n",
       "11549  2002   1495    Automatic    13800  305  39.8         2.7\n",
       "12594  2004   1495       Manual   119000  300  34.5         1.8\n",
       "11765  2000   1490    Automatic    87000  265  27.2         3.2\n",
       "12008  2010   1350       Manual   116126  145  54.3         2.0\n",
       "11816  2003    650       Manual   109090  235  40.0         1.4\n",
       "\n",
       "[12988 rows x 7 columns]"
      ]
     },
     "execution_count": 15,
     "metadata": {},
     "output_type": "execute_result"
    }
   ],
   "source": [
    "yuzdeDoksanDokuzDf"
   ]
  },
  {
   "cell_type": "code",
   "execution_count": 16,
   "metadata": {},
   "outputs": [
    {
     "data": {
      "text/plain": [
       "12988"
      ]
     },
     "execution_count": 16,
     "metadata": {},
     "output_type": "execute_result"
    }
   ],
   "source": [
    "len(yuzdeDoksanDokuzDf)"
   ]
  },
  {
   "cell_type": "code",
   "execution_count": 17,
   "metadata": {},
   "outputs": [
    {
     "name": "stderr",
     "output_type": "stream",
     "text": [
      "C:\\ProgramData\\Anaconda3\\lib\\site-packages\\seaborn\\distributions.py:2551: FutureWarning: `distplot` is a deprecated function and will be removed in a future version. Please adapt your code to use either `displot` (a figure-level function with similar flexibility) or `histplot` (an axes-level function for histograms).\n",
      "  warnings.warn(msg, FutureWarning)\n"
     ]
    },
    {
     "data": {
      "text/plain": [
       "<AxesSubplot:xlabel='price', ylabel='Density'>"
      ]
     },
     "execution_count": 17,
     "metadata": {},
     "output_type": "execute_result"
    },
    {
     "data": {
      "image/png": "[encoded data removed]",
      "text/plain": [
       "<Figure size 432x288 with 1 Axes>"
      ]
     },
     "metadata": {
      "needs_background": "light"
     },
     "output_type": "display_data"
    }
   ],
   "source": [
    "sbn.distplot(yuzdeDoksanDokuzDf[\"price\"])"
   ]
  },
  {
   "cell_type": "code",
   "execution_count": 18,
   "metadata": {},
   "outputs": [
    {
     "data": {
      "text/html": [
       "<div>\n",
       "<style scoped>\n",
       "    .dataframe tbody tr th:only-of-type {\n",
       "        vertical-align: middle;\n",
       "    }\n",
       "\n",
       "    .dataframe tbody tr th {\n",
       "        vertical-align: top;\n",
       "    }\n",
       "\n",
       "    .dataframe thead th {\n",
       "        text-align: right;\n",
       "    }\n",
       "</style>\n",
       "<table border=\"1\" class=\"dataframe\">\n",
       "  <thead>\n",
       "    <tr style=\"text-align: right;\">\n",
       "      <th></th>\n",
       "      <th>year</th>\n",
       "      <th>price</th>\n",
       "      <th>mileage</th>\n",
       "      <th>tax</th>\n",
       "      <th>mpg</th>\n",
       "      <th>engineSize</th>\n",
       "    </tr>\n",
       "  </thead>\n",
       "  <tbody>\n",
       "    <tr>\n",
       "      <th>count</th>\n",
       "      <td>12988.000000</td>\n",
       "      <td>12988.000000</td>\n",
       "      <td>12988.000000</td>\n",
       "      <td>12988.000000</td>\n",
       "      <td>12988.000000</td>\n",
       "      <td>12988.000000</td>\n",
       "    </tr>\n",
       "    <tr>\n",
       "      <th>mean</th>\n",
       "      <td>2017.281876</td>\n",
       "      <td>24074.926933</td>\n",
       "      <td>22132.741146</td>\n",
       "      <td>129.689714</td>\n",
       "      <td>55.437142</td>\n",
       "      <td>2.050901</td>\n",
       "    </tr>\n",
       "    <tr>\n",
       "      <th>std</th>\n",
       "      <td>2.228515</td>\n",
       "      <td>9866.224575</td>\n",
       "      <td>21196.776401</td>\n",
       "      <td>65.183076</td>\n",
       "      <td>15.025999</td>\n",
       "      <td>0.532596</td>\n",
       "    </tr>\n",
       "    <tr>\n",
       "      <th>min</th>\n",
       "      <td>1970.000000</td>\n",
       "      <td>650.000000</td>\n",
       "      <td>1.000000</td>\n",
       "      <td>0.000000</td>\n",
       "      <td>1.100000</td>\n",
       "      <td>0.000000</td>\n",
       "    </tr>\n",
       "    <tr>\n",
       "      <th>25%</th>\n",
       "      <td>2016.000000</td>\n",
       "      <td>17357.500000</td>\n",
       "      <td>6322.000000</td>\n",
       "      <td>125.000000</td>\n",
       "      <td>45.600000</td>\n",
       "      <td>1.675000</td>\n",
       "    </tr>\n",
       "    <tr>\n",
       "      <th>50%</th>\n",
       "      <td>2018.000000</td>\n",
       "      <td>22299.000000</td>\n",
       "      <td>15369.500000</td>\n",
       "      <td>145.000000</td>\n",
       "      <td>56.500000</td>\n",
       "      <td>2.000000</td>\n",
       "    </tr>\n",
       "    <tr>\n",
       "      <th>75%</th>\n",
       "      <td>2019.000000</td>\n",
       "      <td>28706.000000</td>\n",
       "      <td>31982.250000</td>\n",
       "      <td>145.000000</td>\n",
       "      <td>64.200000</td>\n",
       "      <td>2.100000</td>\n",
       "    </tr>\n",
       "    <tr>\n",
       "      <th>max</th>\n",
       "      <td>2020.000000</td>\n",
       "      <td>65990.000000</td>\n",
       "      <td>259000.000000</td>\n",
       "      <td>580.000000</td>\n",
       "      <td>217.300000</td>\n",
       "      <td>6.200000</td>\n",
       "    </tr>\n",
       "  </tbody>\n",
       "</table>\n",
       "</div>"
      ],
      "text/plain": [
       "               year         price        mileage           tax           mpg  \\\n",
       "count  12988.000000  12988.000000   12988.000000  12988.000000  12988.000000   \n",
       "mean    2017.281876  24074.926933   22132.741146    129.689714     55.437142   \n",
       "std        2.228515   9866.224575   21196.776401     65.183076     15.025999   \n",
       "min     1970.000000    650.000000       1.000000      0.000000      1.100000   \n",
       "25%     2016.000000  17357.500000    6322.000000    125.000000     45.600000   \n",
       "50%     2018.000000  22299.000000   15369.500000    145.000000     56.500000   \n",
       "75%     2019.000000  28706.000000   31982.250000    145.000000     64.200000   \n",
       "max     2020.000000  65990.000000  259000.000000    580.000000    217.300000   \n",
       "\n",
       "         engineSize  \n",
       "count  12988.000000  \n",
       "mean       2.050901  \n",
       "std        0.532596  \n",
       "min        0.000000  \n",
       "25%        1.675000  \n",
       "50%        2.000000  \n",
       "75%        2.100000  \n",
       "max        6.200000  "
      ]
     },
     "execution_count": 18,
     "metadata": {},
     "output_type": "execute_result"
    }
   ],
   "source": [
    "yuzdeDoksanDokuzDf.describe()"
   ]
  },
  {
   "cell_type": "code",
   "execution_count": 19,
   "metadata": {},
   "outputs": [
    {
     "data": {
      "text/plain": [
       "year\n",
       "1970    24999.000000\n",
       "1997     9995.000000\n",
       "1998     8605.000000\n",
       "1999     5995.000000\n",
       "2000     5743.333333\n",
       "2001     4957.900000\n",
       "2002     5820.444444\n",
       "2003     4878.000000\n",
       "2004     4727.615385\n",
       "2005     4426.111111\n",
       "2006     4036.875000\n",
       "2007     5136.045455\n",
       "2008     6967.437500\n",
       "2009     6166.764706\n",
       "2010     8308.473684\n",
       "2011    12624.894737\n",
       "2012    10845.140351\n",
       "2013    11939.842466\n",
       "2014    14042.936864\n",
       "2015    16731.780020\n",
       "2016    19307.892948\n",
       "2017    21514.307854\n",
       "2018    25720.162918\n",
       "2019    31290.020865\n",
       "2020    35433.282337\n",
       "Name: price, dtype: float64"
      ]
     },
     "execution_count": 19,
     "metadata": {},
     "output_type": "execute_result"
    }
   ],
   "source": [
    "dataFrame.groupby(\"year\").mean()[\"price\"]"
   ]
  },
  {
   "cell_type": "code",
   "execution_count": 20,
   "metadata": {},
   "outputs": [
    {
     "data": {
      "text/plain": [
       "year\n",
       "1970    24999.000000\n",
       "1997     9995.000000\n",
       "1998     8605.000000\n",
       "1999     5995.000000\n",
       "2000     5743.333333\n",
       "2001     4957.900000\n",
       "2002     5820.444444\n",
       "2003     4878.000000\n",
       "2004     4727.615385\n",
       "2005     4426.111111\n",
       "2006     4036.875000\n",
       "2007     5136.045455\n",
       "2008     6967.437500\n",
       "2009     6166.764706\n",
       "2010     8308.473684\n",
       "2011     8913.459459\n",
       "2012    10845.140351\n",
       "2013    11939.842466\n",
       "2014    14042.936864\n",
       "2015    16647.822222\n",
       "2016    19223.558943\n",
       "2017    21356.280421\n",
       "2018    24800.844506\n",
       "2019    30289.524832\n",
       "2020    34234.794872\n",
       "Name: price, dtype: float64"
      ]
     },
     "execution_count": 20,
     "metadata": {},
     "output_type": "execute_result"
    }
   ],
   "source": [
    "yuzdeDoksanDokuzDf.groupby(\"year\").mean()[\"price\"]"
   ]
  },
  {
   "cell_type": "code",
   "execution_count": 21,
   "metadata": {},
   "outputs": [
    {
     "data": {
      "text/plain": [
       "year\n",
       "1997     9995.000000\n",
       "1998     8605.000000\n",
       "1999     5995.000000\n",
       "2000     5743.333333\n",
       "2001     4957.900000\n",
       "2002     5820.444444\n",
       "2003     4878.000000\n",
       "2004     4727.615385\n",
       "2005     4426.111111\n",
       "2006     4036.875000\n",
       "2007     5136.045455\n",
       "2008     6967.437500\n",
       "2009     6166.764706\n",
       "2010     8308.473684\n",
       "2011    12624.894737\n",
       "2012    10845.140351\n",
       "2013    11939.842466\n",
       "2014    14042.936864\n",
       "2015    16731.780020\n",
       "2016    19307.892948\n",
       "2017    21514.307854\n",
       "2018    25720.162918\n",
       "2019    31290.020865\n",
       "2020    35433.282337\n",
       "Name: price, dtype: float64"
      ]
     },
     "execution_count": 21,
     "metadata": {},
     "output_type": "execute_result"
    }
   ],
   "source": [
    "dataFrame[dataFrame.year != 1970].groupby(\"year\").mean()[\"price\"]"
   ]
  },
  {
   "cell_type": "code",
   "execution_count": 22,
   "metadata": {},
   "outputs": [],
   "source": [
    "dataFrame = yuzdeDoksanDokuzDf"
   ]
  },
  {
   "cell_type": "code",
   "execution_count": 23,
   "metadata": {},
   "outputs": [
    {
     "data": {
      "text/html": [
       "<div>\n",
       "<style scoped>\n",
       "    .dataframe tbody tr th:only-of-type {\n",
       "        vertical-align: middle;\n",
       "    }\n",
       "\n",
       "    .dataframe tbody tr th {\n",
       "        vertical-align: top;\n",
       "    }\n",
       "\n",
       "    .dataframe thead th {\n",
       "        text-align: right;\n",
       "    }\n",
       "</style>\n",
       "<table border=\"1\" class=\"dataframe\">\n",
       "  <thead>\n",
       "    <tr style=\"text-align: right;\">\n",
       "      <th></th>\n",
       "      <th>year</th>\n",
       "      <th>price</th>\n",
       "      <th>mileage</th>\n",
       "      <th>tax</th>\n",
       "      <th>mpg</th>\n",
       "      <th>engineSize</th>\n",
       "    </tr>\n",
       "  </thead>\n",
       "  <tbody>\n",
       "    <tr>\n",
       "      <th>count</th>\n",
       "      <td>12988.000000</td>\n",
       "      <td>12988.000000</td>\n",
       "      <td>12988.000000</td>\n",
       "      <td>12988.000000</td>\n",
       "      <td>12988.000000</td>\n",
       "      <td>12988.000000</td>\n",
       "    </tr>\n",
       "    <tr>\n",
       "      <th>mean</th>\n",
       "      <td>2017.281876</td>\n",
       "      <td>24074.926933</td>\n",
       "      <td>22132.741146</td>\n",
       "      <td>129.689714</td>\n",
       "      <td>55.437142</td>\n",
       "      <td>2.050901</td>\n",
       "    </tr>\n",
       "    <tr>\n",
       "      <th>std</th>\n",
       "      <td>2.228515</td>\n",
       "      <td>9866.224575</td>\n",
       "      <td>21196.776401</td>\n",
       "      <td>65.183076</td>\n",
       "      <td>15.025999</td>\n",
       "      <td>0.532596</td>\n",
       "    </tr>\n",
       "    <tr>\n",
       "      <th>min</th>\n",
       "      <td>1970.000000</td>\n",
       "      <td>650.000000</td>\n",
       "      <td>1.000000</td>\n",
       "      <td>0.000000</td>\n",
       "      <td>1.100000</td>\n",
       "      <td>0.000000</td>\n",
       "    </tr>\n",
       "    <tr>\n",
       "      <th>25%</th>\n",
       "      <td>2016.000000</td>\n",
       "      <td>17357.500000</td>\n",
       "      <td>6322.000000</td>\n",
       "      <td>125.000000</td>\n",
       "      <td>45.600000</td>\n",
       "      <td>1.675000</td>\n",
       "    </tr>\n",
       "    <tr>\n",
       "      <th>50%</th>\n",
       "      <td>2018.000000</td>\n",
       "      <td>22299.000000</td>\n",
       "      <td>15369.500000</td>\n",
       "      <td>145.000000</td>\n",
       "      <td>56.500000</td>\n",
       "      <td>2.000000</td>\n",
       "    </tr>\n",
       "    <tr>\n",
       "      <th>75%</th>\n",
       "      <td>2019.000000</td>\n",
       "      <td>28706.000000</td>\n",
       "      <td>31982.250000</td>\n",
       "      <td>145.000000</td>\n",
       "      <td>64.200000</td>\n",
       "      <td>2.100000</td>\n",
       "    </tr>\n",
       "    <tr>\n",
       "      <th>max</th>\n",
       "      <td>2020.000000</td>\n",
       "      <td>65990.000000</td>\n",
       "      <td>259000.000000</td>\n",
       "      <td>580.000000</td>\n",
       "      <td>217.300000</td>\n",
       "      <td>6.200000</td>\n",
       "    </tr>\n",
       "  </tbody>\n",
       "</table>\n",
       "</div>"
      ],
      "text/plain": [
       "               year         price        mileage           tax           mpg  \\\n",
       "count  12988.000000  12988.000000   12988.000000  12988.000000  12988.000000   \n",
       "mean    2017.281876  24074.926933   22132.741146    129.689714     55.437142   \n",
       "std        2.228515   9866.224575   21196.776401     65.183076     15.025999   \n",
       "min     1970.000000    650.000000       1.000000      0.000000      1.100000   \n",
       "25%     2016.000000  17357.500000    6322.000000    125.000000     45.600000   \n",
       "50%     2018.000000  22299.000000   15369.500000    145.000000     56.500000   \n",
       "75%     2019.000000  28706.000000   31982.250000    145.000000     64.200000   \n",
       "max     2020.000000  65990.000000  259000.000000    580.000000    217.300000   \n",
       "\n",
       "         engineSize  \n",
       "count  12988.000000  \n",
       "mean       2.050901  \n",
       "std        0.532596  \n",
       "min        0.000000  \n",
       "25%        1.675000  \n",
       "50%        2.000000  \n",
       "75%        2.100000  \n",
       "max        6.200000  "
      ]
     },
     "execution_count": 23,
     "metadata": {},
     "output_type": "execute_result"
    }
   ],
   "source": [
    "dataFrame.describe()"
   ]
  },
  {
   "cell_type": "code",
   "execution_count": 24,
   "metadata": {},
   "outputs": [],
   "source": [
    "dataFrame = dataFrame[dataFrame.year != 1970]"
   ]
  },
  {
   "cell_type": "code",
   "execution_count": 25,
   "metadata": {},
   "outputs": [
    {
     "data": {
      "text/plain": [
       "year\n",
       "1997     9995.000000\n",
       "1998     8605.000000\n",
       "1999     5995.000000\n",
       "2000     5743.333333\n",
       "2001     4957.900000\n",
       "2002     5820.444444\n",
       "2003     4878.000000\n",
       "2004     4727.615385\n",
       "2005     4426.111111\n",
       "2006     4036.875000\n",
       "2007     5136.045455\n",
       "2008     6967.437500\n",
       "2009     6166.764706\n",
       "2010     8308.473684\n",
       "2011     8913.459459\n",
       "2012    10845.140351\n",
       "2013    11939.842466\n",
       "2014    14042.936864\n",
       "2015    16647.822222\n",
       "2016    19223.558943\n",
       "2017    21356.280421\n",
       "2018    24800.844506\n",
       "2019    30289.524832\n",
       "2020    34234.794872\n",
       "Name: price, dtype: float64"
      ]
     },
     "execution_count": 25,
     "metadata": {},
     "output_type": "execute_result"
    }
   ],
   "source": [
    "dataFrame.groupby(\"year\").mean()[\"price\"]"
   ]
  },
  {
   "cell_type": "code",
   "execution_count": 26,
   "metadata": {},
   "outputs": [
    {
     "data": {
      "text/html": [
       "<div>\n",
       "<style scoped>\n",
       "    .dataframe tbody tr th:only-of-type {\n",
       "        vertical-align: middle;\n",
       "    }\n",
       "\n",
       "    .dataframe tbody tr th {\n",
       "        vertical-align: top;\n",
       "    }\n",
       "\n",
       "    .dataframe thead th {\n",
       "        text-align: right;\n",
       "    }\n",
       "</style>\n",
       "<table border=\"1\" class=\"dataframe\">\n",
       "  <thead>\n",
       "    <tr style=\"text-align: right;\">\n",
       "      <th></th>\n",
       "      <th>year</th>\n",
       "      <th>price</th>\n",
       "      <th>transmission</th>\n",
       "      <th>mileage</th>\n",
       "      <th>tax</th>\n",
       "      <th>mpg</th>\n",
       "      <th>engineSize</th>\n",
       "    </tr>\n",
       "  </thead>\n",
       "  <tbody>\n",
       "    <tr>\n",
       "      <th>6177</th>\n",
       "      <td>2019</td>\n",
       "      <td>65990</td>\n",
       "      <td>Semi-Auto</td>\n",
       "      <td>5076</td>\n",
       "      <td>150</td>\n",
       "      <td>30.4</td>\n",
       "      <td>3.0</td>\n",
       "    </tr>\n",
       "    <tr>\n",
       "      <th>5779</th>\n",
       "      <td>2020</td>\n",
       "      <td>65990</td>\n",
       "      <td>Semi-Auto</td>\n",
       "      <td>999</td>\n",
       "      <td>145</td>\n",
       "      <td>28.0</td>\n",
       "      <td>4.0</td>\n",
       "    </tr>\n",
       "    <tr>\n",
       "      <th>3191</th>\n",
       "      <td>2020</td>\n",
       "      <td>65980</td>\n",
       "      <td>Semi-Auto</td>\n",
       "      <td>3999</td>\n",
       "      <td>145</td>\n",
       "      <td>28.0</td>\n",
       "      <td>4.0</td>\n",
       "    </tr>\n",
       "    <tr>\n",
       "      <th>4727</th>\n",
       "      <td>2019</td>\n",
       "      <td>65000</td>\n",
       "      <td>Semi-Auto</td>\n",
       "      <td>3398</td>\n",
       "      <td>145</td>\n",
       "      <td>27.2</td>\n",
       "      <td>4.0</td>\n",
       "    </tr>\n",
       "    <tr>\n",
       "      <th>8814</th>\n",
       "      <td>2019</td>\n",
       "      <td>64999</td>\n",
       "      <td>Semi-Auto</td>\n",
       "      <td>119</td>\n",
       "      <td>145</td>\n",
       "      <td>40.9</td>\n",
       "      <td>3.0</td>\n",
       "    </tr>\n",
       "  </tbody>\n",
       "</table>\n",
       "</div>"
      ],
      "text/plain": [
       "      year  price transmission  mileage  tax   mpg  engineSize\n",
       "6177  2019  65990    Semi-Auto     5076  150  30.4         3.0\n",
       "5779  2020  65990    Semi-Auto      999  145  28.0         4.0\n",
       "3191  2020  65980    Semi-Auto     3999  145  28.0         4.0\n",
       "4727  2019  65000    Semi-Auto     3398  145  27.2         4.0\n",
       "8814  2019  64999    Semi-Auto      119  145  40.9         3.0"
      ]
     },
     "execution_count": 26,
     "metadata": {},
     "output_type": "execute_result"
    }
   ],
   "source": [
    "dataFrame.head()"
   ]
  },
  {
   "cell_type": "code",
   "execution_count": 27,
   "metadata": {},
   "outputs": [],
   "source": [
    "dataFrame = dataFrame.drop(\"transmission\", axis=1)"
   ]
  },
  {
   "cell_type": "code",
   "execution_count": 28,
   "metadata": {},
   "outputs": [
    {
     "data": {
      "text/html": [
       "<div>\n",
       "<style scoped>\n",
       "    .dataframe tbody tr th:only-of-type {\n",
       "        vertical-align: middle;\n",
       "    }\n",
       "\n",
       "    .dataframe tbody tr th {\n",
       "        vertical-align: top;\n",
       "    }\n",
       "\n",
       "    .dataframe thead th {\n",
       "        text-align: right;\n",
       "    }\n",
       "</style>\n",
       "<table border=\"1\" class=\"dataframe\">\n",
       "  <thead>\n",
       "    <tr style=\"text-align: right;\">\n",
       "      <th></th>\n",
       "      <th>year</th>\n",
       "      <th>price</th>\n",
       "      <th>mileage</th>\n",
       "      <th>tax</th>\n",
       "      <th>mpg</th>\n",
       "      <th>engineSize</th>\n",
       "    </tr>\n",
       "  </thead>\n",
       "  <tbody>\n",
       "    <tr>\n",
       "      <th>6177</th>\n",
       "      <td>2019</td>\n",
       "      <td>65990</td>\n",
       "      <td>5076</td>\n",
       "      <td>150</td>\n",
       "      <td>30.4</td>\n",
       "      <td>3.0</td>\n",
       "    </tr>\n",
       "    <tr>\n",
       "      <th>5779</th>\n",
       "      <td>2020</td>\n",
       "      <td>65990</td>\n",
       "      <td>999</td>\n",
       "      <td>145</td>\n",
       "      <td>28.0</td>\n",
       "      <td>4.0</td>\n",
       "    </tr>\n",
       "    <tr>\n",
       "      <th>3191</th>\n",
       "      <td>2020</td>\n",
       "      <td>65980</td>\n",
       "      <td>3999</td>\n",
       "      <td>145</td>\n",
       "      <td>28.0</td>\n",
       "      <td>4.0</td>\n",
       "    </tr>\n",
       "    <tr>\n",
       "      <th>4727</th>\n",
       "      <td>2019</td>\n",
       "      <td>65000</td>\n",
       "      <td>3398</td>\n",
       "      <td>145</td>\n",
       "      <td>27.2</td>\n",
       "      <td>4.0</td>\n",
       "    </tr>\n",
       "    <tr>\n",
       "      <th>8814</th>\n",
       "      <td>2019</td>\n",
       "      <td>64999</td>\n",
       "      <td>119</td>\n",
       "      <td>145</td>\n",
       "      <td>40.9</td>\n",
       "      <td>3.0</td>\n",
       "    </tr>\n",
       "  </tbody>\n",
       "</table>\n",
       "</div>"
      ],
      "text/plain": [
       "      year  price  mileage  tax   mpg  engineSize\n",
       "6177  2019  65990     5076  150  30.4         3.0\n",
       "5779  2020  65990      999  145  28.0         4.0\n",
       "3191  2020  65980     3999  145  28.0         4.0\n",
       "4727  2019  65000     3398  145  27.2         4.0\n",
       "8814  2019  64999      119  145  40.9         3.0"
      ]
     },
     "execution_count": 28,
     "metadata": {},
     "output_type": "execute_result"
    }
   ],
   "source": [
    "dataFrame.head()"
   ]
  },
  {
   "cell_type": "code",
   "execution_count": 29,
   "metadata": {},
   "outputs": [],
   "source": [
    "y = dataFrame[\"price\"].values\n",
    "x = dataFrame.drop(\"price\", axis = 1).values"
   ]
  },
  {
   "cell_type": "code",
   "execution_count": 30,
   "metadata": {},
   "outputs": [
    {
     "data": {
      "text/plain": [
       "array([65990, 65990, 65980, ...,  1490,  1350,   650], dtype=int64)"
      ]
     },
     "execution_count": 30,
     "metadata": {},
     "output_type": "execute_result"
    }
   ],
   "source": [
    "y"
   ]
  },
  {
   "cell_type": "code",
   "execution_count": 31,
   "metadata": {},
   "outputs": [
    {
     "data": {
      "text/plain": [
       "array([[2.01900e+03, 5.07600e+03, 1.50000e+02, 3.04000e+01, 3.00000e+00],\n",
       "       [2.02000e+03, 9.99000e+02, 1.45000e+02, 2.80000e+01, 4.00000e+00],\n",
       "       [2.02000e+03, 3.99900e+03, 1.45000e+02, 2.80000e+01, 4.00000e+00],\n",
       "       ...,\n",
       "       [2.00000e+03, 8.70000e+04, 2.65000e+02, 2.72000e+01, 3.20000e+00],\n",
       "       [2.01000e+03, 1.16126e+05, 1.45000e+02, 5.43000e+01, 2.00000e+00],\n",
       "       [2.00300e+03, 1.09090e+05, 2.35000e+02, 4.00000e+01, 1.40000e+00]])"
      ]
     },
     "execution_count": 31,
     "metadata": {},
     "output_type": "execute_result"
    }
   ],
   "source": [
    "x"
   ]
  },
  {
   "cell_type": "code",
   "execution_count": 32,
   "metadata": {},
   "outputs": [],
   "source": [
    "from sklearn.model_selection import train_test_split"
   ]
  },
  {
   "cell_type": "code",
   "execution_count": 33,
   "metadata": {},
   "outputs": [],
   "source": [
    "x_train, x_test, y_train, y_test = train_test_split(x, y, test_size=0.3, random_state=10)"
   ]
  },
  {
   "cell_type": "code",
   "execution_count": 34,
   "metadata": {},
   "outputs": [
    {
     "data": {
      "text/plain": [
       "9090"
      ]
     },
     "execution_count": 34,
     "metadata": {},
     "output_type": "execute_result"
    }
   ],
   "source": [
    "len(x_train)"
   ]
  },
  {
   "cell_type": "code",
   "execution_count": 35,
   "metadata": {},
   "outputs": [
    {
     "data": {
      "text/plain": [
       "3897"
      ]
     },
     "execution_count": 35,
     "metadata": {},
     "output_type": "execute_result"
    }
   ],
   "source": [
    "len(x_test)"
   ]
  },
  {
   "cell_type": "code",
   "execution_count": 36,
   "metadata": {},
   "outputs": [],
   "source": [
    "from sklearn.preprocessing import MinMaxScaler"
   ]
  },
  {
   "cell_type": "code",
   "execution_count": 37,
   "metadata": {},
   "outputs": [],
   "source": [
    "scaler = MinMaxScaler()"
   ]
  },
  {
   "cell_type": "code",
   "execution_count": 38,
   "metadata": {},
   "outputs": [],
   "source": [
    "x_train = scaler.fit_transform(x_train)"
   ]
  },
  {
   "cell_type": "code",
   "execution_count": 39,
   "metadata": {},
   "outputs": [],
   "source": [
    "x_test = scaler.fit_transform(x_test)"
   ]
  },
  {
   "cell_type": "code",
   "execution_count": 40,
   "metadata": {},
   "outputs": [],
   "source": [
    "from tensorflow.keras.models import Sequential\n",
    "from tensorflow.keras.layers import Dense"
   ]
  },
  {
   "cell_type": "code",
   "execution_count": 89,
   "metadata": {},
   "outputs": [],
   "source": [
    "model = Sequential()\n",
    "\n",
    "model.add(Dense(12, activation = \"relu\"))\n",
    "model.add(Dense(12, activation = \"relu\"))\n",
    "model.add(Dense(12, activation = \"relu\"))\n",
    "model.add(Dense(12, activation = \"relu\"))\n",
    "\n",
    "\n",
    "model.add(Dense(1))\n",
    "\n",
    "model.compile(optimizer=\"adam\", loss=\"mse\")"
   ]
  },
  {
   "cell_type": "code",
   "execution_count": 90,
   "metadata": {},
   "outputs": [
    {
     "name": "stdout",
     "output_type": "stream",
     "text": [
      "Epoch 1/300\n",
      "37/37 [==============================] - 2s 19ms/step - loss: 666437396.2105 - val_loss: 688102720.0000\n",
      "Epoch 2/300\n",
      "37/37 [==============================] - 0s 8ms/step - loss: 679182841.2632 - val_loss: 688062400.0000\n",
      "Epoch 3/300\n",
      "37/37 [==============================] - 0s 7ms/step - loss: 663256122.9474 - val_loss: 687903040.0000\n",
      "Epoch 4/300\n",
      "37/37 [==============================] - 0s 7ms/step - loss: 667347130.9474 - val_loss: 687345280.0000\n",
      "Epoch 5/300\n",
      "37/37 [==============================] - 0s 7ms/step - loss: 670164666.9474 - val_loss: 685543104.0000\n",
      "Epoch 6/300\n",
      "37/37 [==============================] - 0s 7ms/step - loss: 671178969.2632 - val_loss: 680904256.0000\n",
      "Epoch 7/300\n",
      "37/37 [==============================] - 0s 7ms/step - loss: 656790509.4737 - val_loss: 670866176.0000\n",
      "Epoch 8/300\n",
      "37/37 [==============================] - 0s 7ms/step - loss: 654318497.6842 - val_loss: 651830016.0000\n",
      "Epoch 9/300\n",
      "37/37 [==============================] - 0s 7ms/step - loss: 618557322.1053 - val_loss: 619434624.0000\n",
      "Epoch 10/300\n",
      "37/37 [==============================] - 0s 7ms/step - loss: 591831956.2105 - val_loss: 568510912.0000\n",
      "Epoch 11/300\n",
      "37/37 [==============================] - 0s 7ms/step - loss: 540055349.8947 - val_loss: 494672864.0000\n",
      "Epoch 12/300\n",
      "37/37 [==============================] - 0s 8ms/step - loss: 460315884.6316 - val_loss: 399853856.0000\n",
      "Epoch 13/300\n",
      "37/37 [==============================] - 0s 7ms/step - loss: 365294452.2105 - val_loss: 294832544.0000\n",
      "Epoch 14/300\n",
      "37/37 [==============================] - 0s 7ms/step - loss: 257742038.3158 - val_loss: 199346496.0000\n",
      "Epoch 15/300\n",
      "37/37 [==============================] - 0s 7ms/step - loss: 171824240.8421 - val_loss: 134215904.0000\n",
      "Epoch 16/300\n",
      "37/37 [==============================] - 0s 7ms/step - loss: 119357312.2105 - val_loss: 104049472.0000\n",
      "Epoch 17/300\n",
      "37/37 [==============================] - 0s 7ms/step - loss: 95711371.5789 - val_loss: 95256376.0000\n",
      "Epoch 18/300\n",
      "37/37 [==============================] - 0s 7ms/step - loss: 92281123.7895 - val_loss: 93013248.0000\n",
      "Epoch 19/300\n",
      "37/37 [==============================] - 0s 8ms/step - loss: 88912537.2632 - val_loss: 91956472.0000\n",
      "Epoch 20/300\n",
      "37/37 [==============================] - 0s 7ms/step - loss: 87663902.3158 - val_loss: 91072656.0000\n",
      "Epoch 21/300\n",
      "37/37 [==============================] - 0s 7ms/step - loss: 86465618.9474 - val_loss: 90257352.0000\n",
      "Epoch 22/300\n",
      "37/37 [==============================] - 0s 8ms/step - loss: 84710467.3684 - val_loss: 89476624.0000\n",
      "Epoch 23/300\n",
      "37/37 [==============================] - 0s 8ms/step - loss: 87106634.3158 - val_loss: 88722848.0000\n",
      "Epoch 24/300\n",
      "37/37 [==============================] - 0s 8ms/step - loss: 87568891.1579 - val_loss: 88006312.0000\n",
      "Epoch 25/300\n",
      "37/37 [==============================] - 0s 7ms/step - loss: 84001550.7368 - val_loss: 87312592.0000\n",
      "Epoch 26/300\n",
      "37/37 [==============================] - 0s 7ms/step - loss: 84037127.7895 - val_loss: 86633360.0000\n",
      "Epoch 27/300\n",
      "37/37 [==============================] - 0s 7ms/step - loss: 85428388.4211 - val_loss: 85966952.0000\n",
      "Epoch 28/300\n",
      "37/37 [==============================] - 0s 8ms/step - loss: 85017324.0000 - val_loss: 85284712.0000\n",
      "Epoch 29/300\n",
      "37/37 [==============================] - 0s 7ms/step - loss: 81812960.4211 - val_loss: 84667144.0000\n",
      "Epoch 30/300\n",
      "37/37 [==============================] - 0s 7ms/step - loss: 82425995.7895 - val_loss: 84023400.0000\n",
      "Epoch 31/300\n",
      "37/37 [==============================] - 0s 7ms/step - loss: 83897276.8421 - val_loss: 83387704.0000\n",
      "Epoch 32/300\n",
      "37/37 [==============================] - 0s 7ms/step - loss: 81388004.2105 - val_loss: 82766256.0000\n",
      "Epoch 33/300\n",
      "37/37 [==============================] - 0s 8ms/step - loss: 80073879.6842 - val_loss: 82127456.0000\n",
      "Epoch 34/300\n",
      "37/37 [==============================] - 0s 8ms/step - loss: 78704889.1579 - val_loss: 81534856.0000\n",
      "Epoch 35/300\n",
      "37/37 [==============================] - 0s 7ms/step - loss: 79803794.1053 - val_loss: 80927696.0000\n",
      "Epoch 36/300\n",
      "37/37 [==============================] - 0s 10ms/step - loss: 79493236.6316 - val_loss: 80352528.0000\n",
      "Epoch 37/300\n",
      "37/37 [==============================] - 0s 11ms/step - loss: 80203318.3158 - val_loss: 79689184.0000\n",
      "Epoch 38/300\n",
      "37/37 [==============================] - 0s 12ms/step - loss: 81605211.7895 - val_loss: 79131440.0000\n",
      "Epoch 39/300\n",
      "37/37 [==============================] - 0s 11ms/step - loss: 77700833.0526 - val_loss: 78487824.0000\n",
      "Epoch 40/300\n",
      "37/37 [==============================] - 0s 10ms/step - loss: 80369242.5263 - val_loss: 77917688.0000\n",
      "Epoch 41/300\n",
      "37/37 [==============================] - 0s 9ms/step - loss: 75595237.8947 - val_loss: 77370888.0000\n",
      "Epoch 42/300\n",
      "37/37 [==============================] - 0s 8ms/step - loss: 73778587.6842 - val_loss: 76688888.0000\n",
      "Epoch 43/300\n",
      "37/37 [==============================] - 0s 7ms/step - loss: 75546234.1053 - val_loss: 76126768.0000\n",
      "Epoch 44/300\n",
      "37/37 [==============================] - 0s 8ms/step - loss: 74480676.6316 - val_loss: 75546280.0000\n",
      "Epoch 45/300\n",
      "37/37 [==============================] - 0s 6ms/step - loss: 75257348.6316 - val_loss: 74978168.0000\n",
      "Epoch 46/300\n",
      "37/37 [==============================] - 0s 6ms/step - loss: 77232187.7895 - val_loss: 74320016.0000\n",
      "Epoch 47/300\n",
      "37/37 [==============================] - 0s 9ms/step - loss: 73843066.0000 - val_loss: 73737976.0000\n",
      "Epoch 48/300\n",
      "37/37 [==============================] - 0s 9ms/step - loss: 76286494.5263 - val_loss: 73113904.0000\n",
      "Epoch 49/300\n",
      "37/37 [==============================] - 0s 7ms/step - loss: 72075448.2105 - val_loss: 72527744.0000\n",
      "Epoch 50/300\n",
      "37/37 [==============================] - 0s 7ms/step - loss: 72358653.0526 - val_loss: 71880104.0000\n",
      "Epoch 51/300\n",
      "37/37 [==============================] - 0s 8ms/step - loss: 73184109.4737 - val_loss: 71320608.0000\n",
      "Epoch 52/300\n",
      "37/37 [==============================] - 0s 7ms/step - loss: 69695548.4211 - val_loss: 70697120.0000\n",
      "Epoch 53/300\n",
      "37/37 [==============================] - 0s 8ms/step - loss: 72902170.5263 - val_loss: 70101904.0000\n",
      "Epoch 54/300\n",
      "37/37 [==============================] - 0s 7ms/step - loss: 68986743.7895 - val_loss: 69481632.0000\n",
      "Epoch 55/300\n",
      "37/37 [==============================] - 0s 8ms/step - loss: 68533449.8947 - val_loss: 68823896.0000\n",
      "Epoch 56/300\n",
      "37/37 [==============================] - 0s 8ms/step - loss: 69896721.6842 - val_loss: 68183848.0000\n",
      "Epoch 57/300\n",
      "37/37 [==============================] - 0s 7ms/step - loss: 70761873.0526 - val_loss: 67608352.0000\n",
      "Epoch 58/300\n",
      "37/37 [==============================] - 0s 7ms/step - loss: 70038008.8421 - val_loss: 66946044.0000\n",
      "Epoch 59/300\n",
      "37/37 [==============================] - 0s 7ms/step - loss: 67100016.5263 - val_loss: 66232676.0000\n",
      "Epoch 60/300\n",
      "37/37 [==============================] - 0s 7ms/step - loss: 66868490.1053 - val_loss: 65580692.0000\n",
      "Epoch 61/300\n",
      "37/37 [==============================] - 0s 7ms/step - loss: 70203696.7368 - val_loss: 65046824.0000\n",
      "Epoch 62/300\n",
      "37/37 [==============================] - 0s 7ms/step - loss: 69330955.7895 - val_loss: 64405832.0000\n",
      "Epoch 63/300\n",
      "37/37 [==============================] - 0s 7ms/step - loss: 66400483.8947 - val_loss: 63595596.0000\n",
      "Epoch 64/300\n",
      "37/37 [==============================] - 0s 7ms/step - loss: 63001006.1053 - val_loss: 62934508.0000\n",
      "Epoch 65/300\n",
      "37/37 [==============================] - 0s 7ms/step - loss: 64394058.3158 - val_loss: 62228788.0000\n",
      "Epoch 66/300\n",
      "37/37 [==============================] - 0s 7ms/step - loss: 63124106.3158 - val_loss: 61557968.0000\n",
      "Epoch 67/300\n",
      "37/37 [==============================] - 0s 8ms/step - loss: 60619853.1579 - val_loss: 60788256.0000\n",
      "Epoch 68/300\n",
      "37/37 [==============================] - 0s 8ms/step - loss: 63203850.0000 - val_loss: 60164504.0000\n",
      "Epoch 69/300\n",
      "37/37 [==============================] - 0s 8ms/step - loss: 62536984.0000 - val_loss: 59474500.0000\n",
      "Epoch 70/300\n",
      "37/37 [==============================] - 0s 7ms/step - loss: 60930043.0526 - val_loss: 58721180.0000\n",
      "Epoch 71/300\n",
      "37/37 [==============================] - 0s 8ms/step - loss: 57406687.6842 - val_loss: 57865132.0000\n",
      "Epoch 72/300\n"
     ]
    },
    {
     "name": "stdout",
     "output_type": "stream",
     "text": [
      "37/37 [==============================] - 0s 7ms/step - loss: 59871686.6316 - val_loss: 57215404.0000\n",
      "Epoch 73/300\n",
      "37/37 [==============================] - 0s 7ms/step - loss: 59181916.1053 - val_loss: 56474828.0000\n",
      "Epoch 74/300\n",
      "37/37 [==============================] - 0s 7ms/step - loss: 56926299.8947 - val_loss: 55582896.0000\n",
      "Epoch 75/300\n",
      "37/37 [==============================] - 0s 7ms/step - loss: 58485316.4211 - val_loss: 55003752.0000\n",
      "Epoch 76/300\n",
      "37/37 [==============================] - 0s 7ms/step - loss: 57511256.7368 - val_loss: 54106280.0000\n",
      "Epoch 77/300\n",
      "37/37 [==============================] - 0s 7ms/step - loss: 55135604.5263 - val_loss: 53365348.0000\n",
      "Epoch 78/300\n",
      "37/37 [==============================] - 0s 7ms/step - loss: 55896700.8421 - val_loss: 52550652.0000\n",
      "Epoch 79/300\n",
      "37/37 [==============================] - 0s 7ms/step - loss: 52724745.5789 - val_loss: 51660244.0000\n",
      "Epoch 80/300\n",
      "37/37 [==============================] - 0s 7ms/step - loss: 52398426.0000 - val_loss: 50925008.0000\n",
      "Epoch 81/300\n",
      "37/37 [==============================] - 0s 7ms/step - loss: 52512614.3158 - val_loss: 50002072.0000\n",
      "Epoch 82/300\n",
      "37/37 [==============================] - 0s 7ms/step - loss: 52104848.7368 - val_loss: 49289904.0000\n",
      "Epoch 83/300\n",
      "37/37 [==============================] - 0s 7ms/step - loss: 51487396.0000 - val_loss: 48616984.0000\n",
      "Epoch 84/300\n",
      "37/37 [==============================] - 0s 7ms/step - loss: 51152856.2105 - val_loss: 47731696.0000\n",
      "Epoch 85/300\n",
      "37/37 [==============================] - 0s 7ms/step - loss: 48248865.6842 - val_loss: 46854224.0000\n",
      "Epoch 86/300\n",
      "37/37 [==============================] - 0s 7ms/step - loss: 50273260.3158 - val_loss: 46245276.0000\n",
      "Epoch 87/300\n",
      "37/37 [==============================] - 0s 7ms/step - loss: 49261965.3684 - val_loss: 45345156.0000\n",
      "Epoch 88/300\n",
      "37/37 [==============================] - 0s 7ms/step - loss: 48657573.8947 - val_loss: 44377124.0000\n",
      "Epoch 89/300\n",
      "37/37 [==============================] - 0s 7ms/step - loss: 48707882.6316 - val_loss: 43871936.0000\n",
      "Epoch 90/300\n",
      "37/37 [==============================] - 0s 7ms/step - loss: 47266316.8421 - val_loss: 43028728.0000\n",
      "Epoch 91/300\n",
      "37/37 [==============================] - 0s 8ms/step - loss: 45031491.3684 - val_loss: 41980072.0000\n",
      "Epoch 92/300\n",
      "37/37 [==============================] - 0s 9ms/step - loss: 42904774.7368 - val_loss: 41224316.0000\n",
      "Epoch 93/300\n",
      "37/37 [==============================] - 0s 8ms/step - loss: 43901301.7895 - val_loss: 40686708.0000\n",
      "Epoch 94/300\n",
      "37/37 [==============================] - 0s 9ms/step - loss: 43331616.1053 - val_loss: 39828816.0000\n",
      "Epoch 95/300\n",
      "37/37 [==============================] - 0s 9ms/step - loss: 41268894.7368 - val_loss: 39125604.0000\n",
      "Epoch 96/300\n",
      "37/37 [==============================] - 0s 8ms/step - loss: 40937418.6316 - val_loss: 38385844.0000\n",
      "Epoch 97/300\n",
      "37/37 [==============================] - 0s 8ms/step - loss: 40374757.1579 - val_loss: 37798600.0000\n",
      "Epoch 98/300\n",
      "37/37 [==============================] - 0s 9ms/step - loss: 38372325.6842 - val_loss: 36861520.0000\n",
      "Epoch 99/300\n",
      "37/37 [==============================] - 0s 8ms/step - loss: 38424840.3158 - val_loss: 36709972.0000\n",
      "Epoch 100/300\n",
      "37/37 [==============================] - 0s 7ms/step - loss: 35915606.2105 - val_loss: 35540248.0000\n",
      "Epoch 101/300\n",
      "37/37 [==============================] - 0s 8ms/step - loss: 36742598.0000 - val_loss: 35333816.0000\n",
      "Epoch 102/300\n",
      "37/37 [==============================] - 0s 8ms/step - loss: 35334527.6316 - val_loss: 34894780.0000\n",
      "Epoch 103/300\n",
      "37/37 [==============================] - 0s 7ms/step - loss: 34570930.7368 - val_loss: 34279344.0000\n",
      "Epoch 104/300\n",
      "37/37 [==============================] - 0s 7ms/step - loss: 34602036.3684 - val_loss: 33972064.0000\n",
      "Epoch 105/300\n",
      "37/37 [==============================] - 0s 7ms/step - loss: 32245174.5789 - val_loss: 33197866.0000\n",
      "Epoch 106/300\n",
      "37/37 [==============================] - 0s 7ms/step - loss: 32159501.9474 - val_loss: 33133092.0000\n",
      "Epoch 107/300\n",
      "37/37 [==============================] - 0s 7ms/step - loss: 32130487.7368 - val_loss: 32669144.0000\n",
      "Epoch 108/300\n",
      "37/37 [==============================] - 0s 7ms/step - loss: 31713231.9474 - val_loss: 32169804.0000\n",
      "Epoch 109/300\n",
      "37/37 [==============================] - 0s 7ms/step - loss: 31005980.2105 - val_loss: 31709546.0000\n",
      "Epoch 110/300\n",
      "37/37 [==============================] - 0s 7ms/step - loss: 29409429.9474 - val_loss: 31457532.0000\n",
      "Epoch 111/300\n",
      "37/37 [==============================] - 0s 7ms/step - loss: 29280718.7368 - val_loss: 31843782.0000\n",
      "Epoch 112/300\n",
      "37/37 [==============================] - 0s 7ms/step - loss: 29202937.3158 - val_loss: 31394926.0000\n",
      "Epoch 113/300\n",
      "37/37 [==============================] - 0s 7ms/step - loss: 29225019.7368 - val_loss: 31224026.0000\n",
      "Epoch 114/300\n",
      "37/37 [==============================] - 0s 7ms/step - loss: 27960875.5263 - val_loss: 30700362.0000\n",
      "Epoch 115/300\n",
      "37/37 [==============================] - 0s 7ms/step - loss: 27328083.3158 - val_loss: 30870054.0000\n",
      "Epoch 116/300\n",
      "37/37 [==============================] - 0s 7ms/step - loss: 28368514.4211 - val_loss: 30181738.0000\n",
      "Epoch 117/300\n",
      "37/37 [==============================] - 0s 7ms/step - loss: 26285174.7368 - val_loss: 29966646.0000\n",
      "Epoch 118/300\n",
      "37/37 [==============================] - 0s 7ms/step - loss: 27224647.2632 - val_loss: 30272422.0000\n",
      "Epoch 119/300\n",
      "37/37 [==============================] - 0s 7ms/step - loss: 26744764.7895 - val_loss: 29775172.0000\n",
      "Epoch 120/300\n",
      "37/37 [==============================] - 0s 7ms/step - loss: 26407971.8947 - val_loss: 29900190.0000\n",
      "Epoch 121/300\n",
      "37/37 [==============================] - 0s 7ms/step - loss: 25670249.4211 - val_loss: 29627982.0000\n",
      "Epoch 122/300\n",
      "37/37 [==============================] - 0s 7ms/step - loss: 25649222.1579 - val_loss: 29418674.0000\n",
      "Epoch 123/300\n",
      "37/37 [==============================] - 0s 7ms/step - loss: 25389173.2105 - val_loss: 29161460.0000\n",
      "Epoch 124/300\n",
      "37/37 [==============================] - 0s 7ms/step - loss: 24304984.8947 - val_loss: 28546916.0000\n",
      "Epoch 125/300\n",
      "37/37 [==============================] - 0s 7ms/step - loss: 24029633.5263 - val_loss: 29282758.0000\n",
      "Epoch 126/300\n",
      "37/37 [==============================] - 0s 7ms/step - loss: 23763418.0526 - val_loss: 28110886.0000\n",
      "Epoch 127/300\n",
      "37/37 [==============================] - 0s 7ms/step - loss: 24362684.6842 - val_loss: 27911282.0000\n",
      "Epoch 128/300\n",
      "37/37 [==============================] - 0s 9ms/step - loss: 23653820.1053 - val_loss: 27619930.0000\n",
      "Epoch 129/300\n",
      "37/37 [==============================] - 0s 7ms/step - loss: 24589673.8947 - val_loss: 27633494.0000\n",
      "Epoch 130/300\n",
      "37/37 [==============================] - 0s 7ms/step - loss: 23847698.3684 - val_loss: 27253852.0000\n",
      "Epoch 131/300\n",
      "37/37 [==============================] - 0s 7ms/step - loss: 23208621.9474 - val_loss: 27751078.0000\n",
      "Epoch 132/300\n",
      "37/37 [==============================] - 0s 7ms/step - loss: 23088025.5789 - val_loss: 26998922.0000\n",
      "Epoch 133/300\n",
      "37/37 [==============================] - 0s 7ms/step - loss: 23698430.8421 - val_loss: 27086804.0000\n",
      "Epoch 134/300\n",
      "37/37 [==============================] - 0s 7ms/step - loss: 22860887.2632 - val_loss: 26319492.0000\n",
      "Epoch 135/300\n",
      "37/37 [==============================] - 0s 7ms/step - loss: 22971708.0000 - val_loss: 27255226.0000\n",
      "Epoch 136/300\n",
      "37/37 [==============================] - 0s 7ms/step - loss: 22632584.3684 - val_loss: 27225668.0000\n",
      "Epoch 137/300\n",
      "37/37 [==============================] - 0s 7ms/step - loss: 21364619.5263 - val_loss: 26439932.0000\n",
      "Epoch 138/300\n",
      "37/37 [==============================] - 0s 7ms/step - loss: 22245511.1053 - val_loss: 26276818.0000\n",
      "Epoch 139/300\n",
      "37/37 [==============================] - 0s 7ms/step - loss: 22497311.1579 - val_loss: 26442876.0000\n",
      "Epoch 140/300\n",
      "37/37 [==============================] - 0s 7ms/step - loss: 22143863.3684 - val_loss: 26182246.0000\n",
      "Epoch 141/300\n",
      "37/37 [==============================] - 0s 8ms/step - loss: 22447151.5789 - val_loss: 26944556.0000\n",
      "Epoch 142/300\n",
      "37/37 [==============================] - 0s 8ms/step - loss: 21441291.4211 - val_loss: 26381456.0000\n",
      "Epoch 143/300\n"
     ]
    },
    {
     "name": "stdout",
     "output_type": "stream",
     "text": [
      "37/37 [==============================] - 0s 8ms/step - loss: 21333887.6316 - val_loss: 26348214.0000\n",
      "Epoch 144/300\n",
      "37/37 [==============================] - 0s 9ms/step - loss: 20871268.2632 - val_loss: 26897704.0000\n",
      "Epoch 145/300\n",
      "37/37 [==============================] - 0s 8ms/step - loss: 21242795.3684 - val_loss: 26060990.0000\n",
      "Epoch 146/300\n",
      "37/37 [==============================] - 0s 8ms/step - loss: 21733816.6316 - val_loss: 26620226.0000\n",
      "Epoch 147/300\n",
      "37/37 [==============================] - 0s 9ms/step - loss: 22947657.5789 - val_loss: 26828280.0000\n",
      "Epoch 148/300\n",
      "37/37 [==============================] - 0s 8ms/step - loss: 21395025.8421 - val_loss: 27293300.0000\n",
      "Epoch 149/300\n",
      "37/37 [==============================] - 0s 8ms/step - loss: 21541401.5263 - val_loss: 26239354.0000\n",
      "Epoch 150/300\n",
      "37/37 [==============================] - 0s 8ms/step - loss: 21514885.3158 - val_loss: 27257990.0000\n",
      "Epoch 151/300\n",
      "37/37 [==============================] - 0s 10ms/step - loss: 21211674.1579 - val_loss: 25988774.0000\n",
      "Epoch 152/300\n",
      "37/37 [==============================] - 0s 10ms/step - loss: 20641447.0000 - val_loss: 26361968.0000\n",
      "Epoch 153/300\n",
      "37/37 [==============================] - 0s 10ms/step - loss: 22022734.8421 - val_loss: 26233608.0000\n",
      "Epoch 154/300\n",
      "37/37 [==============================] - 0s 10ms/step - loss: 20866089.8947 - val_loss: 26162076.0000\n",
      "Epoch 155/300\n",
      "37/37 [==============================] - 0s 11ms/step - loss: 22541921.3684 - val_loss: 26581172.0000\n",
      "Epoch 156/300\n",
      "37/37 [==============================] - 0s 9ms/step - loss: 21648335.1053 - val_loss: 26095092.0000\n",
      "Epoch 157/300\n",
      "37/37 [==============================] - 0s 10ms/step - loss: 22204872.2632 - val_loss: 26527748.0000\n",
      "Epoch 158/300\n",
      "37/37 [==============================] - 0s 8ms/step - loss: 21382335.5789 - val_loss: 26646738.0000\n",
      "Epoch 159/300\n",
      "37/37 [==============================] - 0s 8ms/step - loss: 21044546.8421 - val_loss: 26224178.0000\n",
      "Epoch 160/300\n",
      "37/37 [==============================] - 0s 9ms/step - loss: 21662762.4737 - val_loss: 25873336.0000\n",
      "Epoch 161/300\n",
      "37/37 [==============================] - 0s 8ms/step - loss: 21165098.5263 - val_loss: 25864576.0000\n",
      "Epoch 162/300\n",
      "37/37 [==============================] - 0s 7ms/step - loss: 21116969.2632 - val_loss: 26303688.0000\n",
      "Epoch 163/300\n",
      "37/37 [==============================] - 0s 7ms/step - loss: 21132018.4211 - val_loss: 25762754.0000\n",
      "Epoch 164/300\n",
      "37/37 [==============================] - 0s 8ms/step - loss: 20262898.0526 - val_loss: 25800082.0000\n",
      "Epoch 165/300\n",
      "37/37 [==============================] - 0s 8ms/step - loss: 21349019.2632 - val_loss: 25499636.0000\n",
      "Epoch 166/300\n",
      "37/37 [==============================] - 0s 8ms/step - loss: 20869866.6842 - val_loss: 25364812.0000\n",
      "Epoch 167/300\n",
      "37/37 [==============================] - 0s 8ms/step - loss: 20255052.1579 - val_loss: 25018946.0000\n",
      "Epoch 168/300\n",
      "37/37 [==============================] - 0s 8ms/step - loss: 20979408.8947 - val_loss: 25410634.0000\n",
      "Epoch 169/300\n",
      "37/37 [==============================] - 0s 9ms/step - loss: 20620528.8947 - val_loss: 25727762.0000\n",
      "Epoch 170/300\n",
      "37/37 [==============================] - 0s 9ms/step - loss: 20145939.1579 - val_loss: 25538216.0000\n",
      "Epoch 171/300\n",
      "37/37 [==============================] - 0s 8ms/step - loss: 21451889.6842 - val_loss: 25431160.0000\n",
      "Epoch 172/300\n",
      "37/37 [==============================] - 0s 8ms/step - loss: 20663675.9474 - val_loss: 25622454.0000\n",
      "Epoch 173/300\n",
      "37/37 [==============================] - 0s 7ms/step - loss: 20856339.5789 - val_loss: 25232634.0000\n",
      "Epoch 174/300\n",
      "37/37 [==============================] - 0s 8ms/step - loss: 21290223.3158 - val_loss: 25280144.0000\n",
      "Epoch 175/300\n",
      "37/37 [==============================] - 0s 8ms/step - loss: 20742758.0526 - val_loss: 25231140.0000\n",
      "Epoch 176/300\n",
      "37/37 [==============================] - 0s 8ms/step - loss: 20364267.2105 - val_loss: 25366794.0000\n",
      "Epoch 177/300\n",
      "37/37 [==============================] - 0s 9ms/step - loss: 20803372.8947 - val_loss: 25624034.0000\n",
      "Epoch 178/300\n",
      "37/37 [==============================] - 0s 8ms/step - loss: 21187942.0526 - val_loss: 25035212.0000\n",
      "Epoch 179/300\n",
      "37/37 [==============================] - 0s 9ms/step - loss: 21003485.3684 - val_loss: 25577088.0000\n",
      "Epoch 180/300\n",
      "37/37 [==============================] - 0s 8ms/step - loss: 20732049.0526 - val_loss: 24856148.0000\n",
      "Epoch 181/300\n",
      "37/37 [==============================] - 0s 8ms/step - loss: 20615481.3684 - val_loss: 25374804.0000\n",
      "Epoch 182/300\n",
      "37/37 [==============================] - 0s 7ms/step - loss: 20901673.8421 - val_loss: 25205936.0000\n",
      "Epoch 183/300\n",
      "37/37 [==============================] - 0s 7ms/step - loss: 20121187.6316 - val_loss: 25327860.0000\n",
      "Epoch 184/300\n",
      "37/37 [==============================] - 0s 8ms/step - loss: 20465718.2632 - val_loss: 25302596.0000\n",
      "Epoch 185/300\n",
      "37/37 [==============================] - 0s 7ms/step - loss: 20931848.8421 - val_loss: 24837524.0000\n",
      "Epoch 186/300\n",
      "37/37 [==============================] - 0s 8ms/step - loss: 19813123.7105 - val_loss: 24375876.0000\n",
      "Epoch 187/300\n",
      "37/37 [==============================] - 0s 7ms/step - loss: 20850047.3158 - val_loss: 24557326.0000\n",
      "Epoch 188/300\n",
      "37/37 [==============================] - 0s 7ms/step - loss: 19909779.9474 - val_loss: 24679462.0000\n",
      "Epoch 189/300\n",
      "37/37 [==============================] - ETA: 0s - loss: 20291596.14 - 0s 7ms/step - loss: 20332997.6842 - val_loss: 25064926.0000\n",
      "Epoch 190/300\n",
      "37/37 [==============================] - 0s 8ms/step - loss: 20971361.5263 - val_loss: 24697618.0000\n",
      "Epoch 191/300\n",
      "37/37 [==============================] - 0s 8ms/step - loss: 20137307.4211 - val_loss: 24778596.0000\n",
      "Epoch 192/300\n",
      "37/37 [==============================] - 0s 8ms/step - loss: 19974327.8947 - val_loss: 24144590.0000\n",
      "Epoch 193/300\n",
      "37/37 [==============================] - 0s 7ms/step - loss: 20263620.0526 - val_loss: 24280822.0000\n",
      "Epoch 194/300\n",
      "37/37 [==============================] - 0s 8ms/step - loss: 20218851.5789 - val_loss: 25025280.0000\n",
      "Epoch 195/300\n",
      "37/37 [==============================] - 0s 8ms/step - loss: 20099381.6316 - val_loss: 24815274.0000\n",
      "Epoch 196/300\n",
      "37/37 [==============================] - 0s 9ms/step - loss: 20826734.7368 - val_loss: 24808856.0000\n",
      "Epoch 197/300\n",
      "37/37 [==============================] - 0s 7ms/step - loss: 20637087.4737 - val_loss: 24831338.0000\n",
      "Epoch 198/300\n",
      "37/37 [==============================] - 0s 9ms/step - loss: 20179564.3684 - val_loss: 24273276.0000\n",
      "Epoch 199/300\n",
      "37/37 [==============================] - 0s 9ms/step - loss: 20198774.7368 - val_loss: 24722044.0000\n",
      "Epoch 200/300\n",
      "37/37 [==============================] - 0s 9ms/step - loss: 19501657.8421 - val_loss: 24269292.0000\n",
      "Epoch 201/300\n",
      "37/37 [==============================] - 0s 8ms/step - loss: 20092240.6316 - val_loss: 24780314.0000\n",
      "Epoch 202/300\n",
      "37/37 [==============================] - 0s 9ms/step - loss: 19838865.2632 - val_loss: 24246586.0000\n",
      "Epoch 203/300\n",
      "37/37 [==============================] - 0s 9ms/step - loss: 20662323.5263 - val_loss: 24735246.0000\n",
      "Epoch 204/300\n",
      "37/37 [==============================] - 0s 10ms/step - loss: 20383589.1053 - val_loss: 24593898.0000\n",
      "Epoch 205/300\n",
      "37/37 [==============================] - 0s 9ms/step - loss: 20078579.6316 - val_loss: 24897988.0000\n",
      "Epoch 206/300\n",
      "37/37 [==============================] - 0s 10ms/step - loss: 20373997.1053 - val_loss: 24848802.0000\n",
      "Epoch 207/300\n",
      "37/37 [==============================] - 0s 8ms/step - loss: 20043628.3158 - val_loss: 24872290.0000\n",
      "Epoch 208/300\n",
      "37/37 [==============================] - 0s 8ms/step - loss: 19676143.2632 - val_loss: 25004768.0000\n",
      "Epoch 209/300\n",
      "37/37 [==============================] - 0s 9ms/step - loss: 21293054.4211 - val_loss: 24410632.0000\n",
      "Epoch 210/300\n",
      "37/37 [==============================] - 0s 8ms/step - loss: 19821236.3158 - val_loss: 24547584.0000\n",
      "Epoch 211/300\n",
      "37/37 [==============================] - 0s 8ms/step - loss: 19750222.8947 - val_loss: 24311716.0000\n",
      "Epoch 212/300\n",
      "37/37 [==============================] - 0s 8ms/step - loss: 19345997.4737 - val_loss: 24397476.0000\n",
      "Epoch 213/300\n",
      "37/37 [==============================] - 0s 8ms/step - loss: 19983726.0526 - val_loss: 24804640.0000\n",
      "Epoch 214/300\n"
     ]
    },
    {
     "name": "stdout",
     "output_type": "stream",
     "text": [
      "37/37 [==============================] - 0s 8ms/step - loss: 20249900.3684 - val_loss: 24215670.0000\n",
      "Epoch 215/300\n",
      "37/37 [==============================] - 0s 8ms/step - loss: 19673014.5789 - val_loss: 24409312.0000\n",
      "Epoch 216/300\n",
      "37/37 [==============================] - 0s 7ms/step - loss: 19490561.3947 - val_loss: 24340452.0000\n",
      "Epoch 217/300\n",
      "37/37 [==============================] - 0s 7ms/step - loss: 19975721.3158 - val_loss: 24514330.0000\n",
      "Epoch 218/300\n",
      "37/37 [==============================] - 0s 7ms/step - loss: 19334179.0789 - val_loss: 24253660.0000\n",
      "Epoch 219/300\n",
      "37/37 [==============================] - 0s 7ms/step - loss: 19322086.6842 - val_loss: 24195290.0000\n",
      "Epoch 220/300\n",
      "37/37 [==============================] - 0s 7ms/step - loss: 20104383.7895 - val_loss: 23701586.0000\n",
      "Epoch 221/300\n",
      "37/37 [==============================] - 0s 7ms/step - loss: 20357608.0526 - val_loss: 23986438.0000\n",
      "Epoch 222/300\n",
      "37/37 [==============================] - 0s 7ms/step - loss: 19759845.3158 - val_loss: 24070262.0000\n",
      "Epoch 223/300\n",
      "37/37 [==============================] - 0s 7ms/step - loss: 19278489.1579 - val_loss: 24013740.0000\n",
      "Epoch 224/300\n",
      "37/37 [==============================] - 0s 7ms/step - loss: 19459538.0000 - val_loss: 23704444.0000\n",
      "Epoch 225/300\n",
      "37/37 [==============================] - 0s 7ms/step - loss: 19496411.0526 - val_loss: 24428628.0000\n",
      "Epoch 226/300\n",
      "37/37 [==============================] - 0s 7ms/step - loss: 20258021.2105 - val_loss: 23390508.0000\n",
      "Epoch 227/300\n",
      "37/37 [==============================] - 0s 7ms/step - loss: 19322243.4737 - val_loss: 23840524.0000\n",
      "Epoch 228/300\n",
      "37/37 [==============================] - 0s 7ms/step - loss: 19293037.5263 - val_loss: 23673260.0000\n",
      "Epoch 229/300\n",
      "37/37 [==============================] - 0s 7ms/step - loss: 19797072.3684 - val_loss: 23696900.0000\n",
      "Epoch 230/300\n",
      "37/37 [==============================] - 0s 7ms/step - loss: 19902300.4211 - val_loss: 23715896.0000\n",
      "Epoch 231/300\n",
      "37/37 [==============================] - 0s 7ms/step - loss: 19378124.8421 - val_loss: 23512026.0000\n",
      "Epoch 232/300\n",
      "37/37 [==============================] - 0s 7ms/step - loss: 19432788.1053 - val_loss: 23841674.0000\n",
      "Epoch 233/300\n",
      "37/37 [==============================] - 0s 7ms/step - loss: 20227062.0000 - val_loss: 23907190.0000\n",
      "Epoch 234/300\n",
      "37/37 [==============================] - 0s 7ms/step - loss: 19448373.7368 - val_loss: 23524740.0000\n",
      "Epoch 235/300\n",
      "37/37 [==============================] - 0s 7ms/step - loss: 19736348.5263 - val_loss: 23731978.0000\n",
      "Epoch 236/300\n",
      "37/37 [==============================] - 0s 7ms/step - loss: 19005331.7895 - val_loss: 23931190.0000\n",
      "Epoch 237/300\n",
      "37/37 [==============================] - 0s 7ms/step - loss: 19871709.3158 - val_loss: 23433852.0000\n",
      "Epoch 238/300\n",
      "37/37 [==============================] - 0s 7ms/step - loss: 19262680.5263 - val_loss: 23816382.0000\n",
      "Epoch 239/300\n",
      "37/37 [==============================] - 0s 7ms/step - loss: 19363816.5789 - val_loss: 23542694.0000\n",
      "Epoch 240/300\n",
      "37/37 [==============================] - 0s 7ms/step - loss: 18858772.0263 - val_loss: 23441268.0000\n",
      "Epoch 241/300\n",
      "37/37 [==============================] - 0s 7ms/step - loss: 18937764.2105 - val_loss: 23565902.0000\n",
      "Epoch 242/300\n",
      "37/37 [==============================] - 0s 7ms/step - loss: 19828869.5789 - val_loss: 23374656.0000\n",
      "Epoch 243/300\n",
      "37/37 [==============================] - 0s 7ms/step - loss: 19103674.5263 - val_loss: 23836404.0000\n",
      "Epoch 244/300\n",
      "37/37 [==============================] - 0s 7ms/step - loss: 19350043.4737 - val_loss: 24013702.0000\n",
      "Epoch 245/300\n",
      "37/37 [==============================] - 0s 7ms/step - loss: 19393869.5263 - val_loss: 23668898.0000\n",
      "Epoch 246/300\n",
      "37/37 [==============================] - 0s 7ms/step - loss: 18772291.0263 - val_loss: 24345094.0000\n",
      "Epoch 247/300\n",
      "37/37 [==============================] - 0s 7ms/step - loss: 19348270.1579 - val_loss: 23664000.0000\n",
      "Epoch 248/300\n",
      "37/37 [==============================] - 0s 7ms/step - loss: 19367672.4211 - val_loss: 23523874.0000\n",
      "Epoch 249/300\n",
      "37/37 [==============================] - 0s 7ms/step - loss: 18801041.3684 - val_loss: 23224574.0000\n",
      "Epoch 250/300\n",
      "37/37 [==============================] - 0s 7ms/step - loss: 19331024.0263 - val_loss: 24093932.0000\n",
      "Epoch 251/300\n",
      "37/37 [==============================] - 0s 7ms/step - loss: 19299582.6842 - val_loss: 23285026.0000\n",
      "Epoch 252/300\n",
      "37/37 [==============================] - 0s 8ms/step - loss: 20114835.3158 - val_loss: 23412318.0000\n",
      "Epoch 253/300\n",
      "37/37 [==============================] - 0s 8ms/step - loss: 19622827.4737 - val_loss: 24159810.0000\n",
      "Epoch 254/300\n",
      "37/37 [==============================] - 0s 8ms/step - loss: 19023058.5789 - val_loss: 23828732.0000\n",
      "Epoch 255/300\n",
      "37/37 [==============================] - 0s 8ms/step - loss: 19146386.0000 - val_loss: 23725244.0000\n",
      "Epoch 256/300\n",
      "37/37 [==============================] - 0s 9ms/step - loss: 18991259.1579 - val_loss: 23636244.0000\n",
      "Epoch 257/300\n",
      "37/37 [==============================] - 0s 10ms/step - loss: 18860495.1579 - val_loss: 23023170.0000\n",
      "Epoch 258/300\n",
      "37/37 [==============================] - 0s 8ms/step - loss: 19319104.2632 - val_loss: 23364368.0000\n",
      "Epoch 259/300\n",
      "37/37 [==============================] - 0s 9ms/step - loss: 19793147.6842 - val_loss: 23365674.0000\n",
      "Epoch 260/300\n",
      "37/37 [==============================] - 0s 8ms/step - loss: 18782105.0526 - val_loss: 23630912.0000\n",
      "Epoch 261/300\n",
      "37/37 [==============================] - 0s 7ms/step - loss: 19531818.1579 - val_loss: 23725868.0000\n",
      "Epoch 262/300\n",
      "37/37 [==============================] - 0s 7ms/step - loss: 18941971.6842 - val_loss: 23500368.0000\n",
      "Epoch 263/300\n",
      "37/37 [==============================] - 0s 8ms/step - loss: 19262381.1316 - val_loss: 23513068.0000\n",
      "Epoch 264/300\n",
      "37/37 [==============================] - 0s 7ms/step - loss: 19179163.8947 - val_loss: 23049538.0000\n",
      "Epoch 265/300\n",
      "37/37 [==============================] - 0s 7ms/step - loss: 18880219.6842 - val_loss: 22618782.0000\n",
      "Epoch 266/300\n",
      "37/37 [==============================] - 0s 8ms/step - loss: 19261221.3684 - val_loss: 24119422.0000\n",
      "Epoch 267/300\n",
      "37/37 [==============================] - 0s 9ms/step - loss: 18983049.4737 - val_loss: 23416264.0000\n",
      "Epoch 268/300\n",
      "37/37 [==============================] - 0s 10ms/step - loss: 19336465.9474 - val_loss: 22926356.0000\n",
      "Epoch 269/300\n",
      "37/37 [==============================] - 0s 10ms/step - loss: 19489726.7368 - val_loss: 23597822.0000\n",
      "Epoch 270/300\n",
      "37/37 [==============================] - 0s 9ms/step - loss: 18747479.6053 - val_loss: 23470140.0000\n",
      "Epoch 271/300\n",
      "37/37 [==============================] - 0s 9ms/step - loss: 18666032.8947 - val_loss: 22760244.0000\n",
      "Epoch 272/300\n",
      "37/37 [==============================] - 0s 8ms/step - loss: 19185923.8421 - val_loss: 22845606.0000\n",
      "Epoch 273/300\n",
      "37/37 [==============================] - 0s 8ms/step - loss: 18827394.6053 - val_loss: 23431146.0000\n",
      "Epoch 274/300\n",
      "37/37 [==============================] - 0s 8ms/step - loss: 18752007.0789 - val_loss: 23102526.0000\n",
      "Epoch 275/300\n",
      "37/37 [==============================] - 0s 9ms/step - loss: 19225269.4211 - val_loss: 23325862.0000\n",
      "Epoch 276/300\n",
      "37/37 [==============================] - 0s 9ms/step - loss: 19373362.0000 - val_loss: 23387814.0000\n",
      "Epoch 277/300\n",
      "37/37 [==============================] - 0s 9ms/step - loss: 18821496.6842 - val_loss: 22753448.0000\n",
      "Epoch 278/300\n",
      "37/37 [==============================] - 0s 7ms/step - loss: 19359362.3684 - val_loss: 23449308.0000\n",
      "Epoch 279/300\n",
      "37/37 [==============================] - 0s 8ms/step - loss: 18763981.2632 - val_loss: 23123430.0000\n",
      "Epoch 280/300\n",
      "37/37 [==============================] - 0s 10ms/step - loss: 19052209.7368 - val_loss: 22856874.0000\n",
      "Epoch 281/300\n",
      "37/37 [==============================] - 0s 7ms/step - loss: 18848282.1053 - val_loss: 23077850.0000\n",
      "Epoch 282/300\n",
      "37/37 [==============================] - 0s 8ms/step - loss: 19432434.4737 - val_loss: 22997908.0000\n",
      "Epoch 283/300\n",
      "37/37 [==============================] - 0s 10ms/step - loss: 18882003.6579 - val_loss: 22885384.0000\n",
      "Epoch 284/300\n",
      "37/37 [==============================] - 0s 8ms/step - loss: 18171589.5000 - val_loss: 23498870.0000\n",
      "Epoch 285/300\n"
     ]
    },
    {
     "name": "stdout",
     "output_type": "stream",
     "text": [
      "37/37 [==============================] - 0s 8ms/step - loss: 18635103.8421 - val_loss: 23033420.0000\n",
      "Epoch 286/300\n",
      "37/37 [==============================] - 0s 7ms/step - loss: 18816182.1579 - val_loss: 23012384.0000\n",
      "Epoch 287/300\n",
      "37/37 [==============================] - 0s 7ms/step - loss: 18773791.7368 - val_loss: 22678098.0000\n",
      "Epoch 288/300\n",
      "37/37 [==============================] - 0s 7ms/step - loss: 18652269.0263 - val_loss: 23310816.0000\n",
      "Epoch 289/300\n",
      "37/37 [==============================] - 0s 7ms/step - loss: 19148188.4211 - val_loss: 22629526.0000\n",
      "Epoch 290/300\n",
      "37/37 [==============================] - 0s 7ms/step - loss: 18249987.4211 - val_loss: 22735978.0000\n",
      "Epoch 291/300\n",
      "37/37 [==============================] - 0s 7ms/step - loss: 18287930.1316 - val_loss: 23029314.0000\n",
      "Epoch 292/300\n",
      "37/37 [==============================] - 0s 7ms/step - loss: 18461776.1316 - val_loss: 22964522.0000\n",
      "Epoch 293/300\n",
      "37/37 [==============================] - 0s 7ms/step - loss: 18870290.0000 - val_loss: 23075346.0000\n",
      "Epoch 294/300\n",
      "37/37 [==============================] - 0s 7ms/step - loss: 18184663.7895 - val_loss: 23015608.0000\n",
      "Epoch 295/300\n",
      "37/37 [==============================] - 0s 7ms/step - loss: 18492244.5263 - val_loss: 22918122.0000\n",
      "Epoch 296/300\n",
      "37/37 [==============================] - 0s 7ms/step - loss: 18809972.0000 - val_loss: 22644690.0000\n",
      "Epoch 297/300\n",
      "37/37 [==============================] - 0s 7ms/step - loss: 18655249.1579 - val_loss: 22498386.0000\n",
      "Epoch 298/300\n",
      "37/37 [==============================] - 0s 7ms/step - loss: 18751217.5789 - val_loss: 23038406.0000\n",
      "Epoch 299/300\n",
      "37/37 [==============================] - 0s 7ms/step - loss: 18219149.5789 - val_loss: 22573126.0000\n",
      "Epoch 300/300\n",
      "37/37 [==============================] - 0s 7ms/step - loss: 18998925.6842 - val_loss: 22888462.0000\n"
     ]
    },
    {
     "data": {
      "text/plain": [
       "<tensorflow.python.keras.callbacks.History at 0x15c32748af0>"
      ]
     },
     "execution_count": 90,
     "metadata": {},
     "output_type": "execute_result"
    }
   ],
   "source": [
    "model.fit(x= x_train, y= y_train, validation_data=(x_test, y_test), batch_size=250, epochs=300)"
   ]
  },
  {
   "cell_type": "code",
   "execution_count": 91,
   "metadata": {},
   "outputs": [],
   "source": [
    "kayipVerisi = pd.DataFrame(model.history.history)"
   ]
  },
  {
   "cell_type": "code",
   "execution_count": 92,
   "metadata": {},
   "outputs": [
    {
     "data": {
      "text/html": [
       "<div>\n",
       "<style scoped>\n",
       "    .dataframe tbody tr th:only-of-type {\n",
       "        vertical-align: middle;\n",
       "    }\n",
       "\n",
       "    .dataframe tbody tr th {\n",
       "        vertical-align: top;\n",
       "    }\n",
       "\n",
       "    .dataframe thead th {\n",
       "        text-align: right;\n",
       "    }\n",
       "</style>\n",
       "<table border=\"1\" class=\"dataframe\">\n",
       "  <thead>\n",
       "    <tr style=\"text-align: right;\">\n",
       "      <th></th>\n",
       "      <th>loss</th>\n",
       "      <th>val_loss</th>\n",
       "    </tr>\n",
       "  </thead>\n",
       "  <tbody>\n",
       "    <tr>\n",
       "      <th>0</th>\n",
       "      <td>672145216.0</td>\n",
       "      <td>688102720.0</td>\n",
       "    </tr>\n",
       "    <tr>\n",
       "      <th>1</th>\n",
       "      <td>672122176.0</td>\n",
       "      <td>688062400.0</td>\n",
       "    </tr>\n",
       "    <tr>\n",
       "      <th>2</th>\n",
       "      <td>672039360.0</td>\n",
       "      <td>687903040.0</td>\n",
       "    </tr>\n",
       "    <tr>\n",
       "      <th>3</th>\n",
       "      <td>671733504.0</td>\n",
       "      <td>687345280.0</td>\n",
       "    </tr>\n",
       "    <tr>\n",
       "      <th>4</th>\n",
       "      <td>670704512.0</td>\n",
       "      <td>685543104.0</td>\n",
       "    </tr>\n",
       "  </tbody>\n",
       "</table>\n",
       "</div>"
      ],
      "text/plain": [
       "          loss     val_loss\n",
       "0  672145216.0  688102720.0\n",
       "1  672122176.0  688062400.0\n",
       "2  672039360.0  687903040.0\n",
       "3  671733504.0  687345280.0\n",
       "4  670704512.0  685543104.0"
      ]
     },
     "execution_count": 92,
     "metadata": {},
     "output_type": "execute_result"
    }
   ],
   "source": [
    "kayipVerisi.head()"
   ]
  },
  {
   "cell_type": "code",
   "execution_count": 93,
   "metadata": {},
   "outputs": [
    {
     "data": {
      "text/plain": [
       "<AxesSubplot:>"
      ]
     },
     "execution_count": 93,
     "metadata": {},
     "output_type": "execute_result"
    },
    {
     "data": {
      "image/png": "[encoded data removed]",
      "text/plain": [
       "<Figure size 432x288 with 1 Axes>"
      ]
     },
     "metadata": {
      "needs_background": "light"
     },
     "output_type": "display_data"
    }
   ],
   "source": [
    "kayipVerisi.plot()"
   ]
  },
  {
   "cell_type": "code",
   "execution_count": 94,
   "metadata": {},
   "outputs": [],
   "source": [
    "from sklearn.metrics import mean_squared_error, mean_absolute_error"
   ]
  },
  {
   "cell_type": "code",
   "execution_count": 95,
   "metadata": {},
   "outputs": [],
   "source": [
    "tahminDizisi = model.predict(x_test)"
   ]
  },
  {
   "cell_type": "code",
   "execution_count": 96,
   "metadata": {},
   "outputs": [
    {
     "data": {
      "text/plain": [
       "array([[20746.664],\n",
       "       [22272.637],\n",
       "       [24106.021],\n",
       "       ...,\n",
       "       [24668.986],\n",
       "       [10339.29 ],\n",
       "       [23783.637]], dtype=float32)"
      ]
     },
     "execution_count": 96,
     "metadata": {},
     "output_type": "execute_result"
    }
   ],
   "source": [
    "tahminDizisi"
   ]
  },
  {
   "cell_type": "code",
   "execution_count": 97,
   "metadata": {},
   "outputs": [
    {
     "data": {
      "text/plain": [
       "3386.522479359419"
      ]
     },
     "execution_count": 97,
     "metadata": {},
     "output_type": "execute_result"
    }
   ],
   "source": [
    "mean_absolute_error(y_test, tahminDizisi)"
   ]
  },
  {
   "cell_type": "code",
   "execution_count": 98,
   "metadata": {},
   "outputs": [
    {
     "data": {
      "text/plain": [
       "[<matplotlib.lines.Line2D at 0x15c33bb7b80>]"
      ]
     },
     "execution_count": 98,
     "metadata": {},
     "output_type": "execute_result"
    },
    {
     "data": {
      "image/png": "[encoded data removed]",
      "text/plain": [
       "<Figure size 432x288 with 1 Axes>"
      ]
     },
     "metadata": {
      "needs_background": "light"
     },
     "output_type": "display_data"
    }
   ],
   "source": [
    "plt.scatter(y_test, tahminDizisi)\n",
    "plt.plot(y_test, y_test, \"g-*\")"
   ]
  },
  {
   "cell_type": "code",
   "execution_count": 99,
   "metadata": {},
   "outputs": [
    {
     "data": {
      "text/plain": [
       "year           2020.0\n",
       "price         65980.0\n",
       "mileage        3999.0\n",
       "tax             145.0\n",
       "mpg              28.0\n",
       "engineSize        4.0\n",
       "Name: 3191, dtype: float64"
      ]
     },
     "execution_count": 99,
     "metadata": {},
     "output_type": "execute_result"
    }
   ],
   "source": [
    "dataFrame.iloc[2]"
   ]
  },
  {
   "cell_type": "code",
   "execution_count": 100,
   "metadata": {},
   "outputs": [],
   "source": [
    "yeniArabaSeries = dataFrame.drop(\"price\", axis=1).iloc[2]"
   ]
  },
  {
   "cell_type": "code",
   "execution_count": 101,
   "metadata": {},
   "outputs": [
    {
     "data": {
      "text/plain": [
       "year          2020.0\n",
       "mileage       3999.0\n",
       "tax            145.0\n",
       "mpg             28.0\n",
       "engineSize       4.0\n",
       "Name: 3191, dtype: float64"
      ]
     },
     "execution_count": 101,
     "metadata": {},
     "output_type": "execute_result"
    }
   ],
   "source": [
    "yeniArabaSeries"
   ]
  },
  {
   "cell_type": "code",
   "execution_count": 102,
   "metadata": {},
   "outputs": [],
   "source": [
    "yeniArabaSeries = scaler.transform(yeniArabaSeries.values.reshape(-1,5))"
   ]
  },
  {
   "cell_type": "code",
   "execution_count": 103,
   "metadata": {},
   "outputs": [
    {
     "data": {
      "text/plain": [
       "array([[61774.137]], dtype=float32)"
      ]
     },
     "execution_count": 103,
     "metadata": {},
     "output_type": "execute_result"
    }
   ],
   "source": [
    "model.predict(yeniArabaSeries)"
   ]
  },
  {
   "cell_type": "code",
   "execution_count": null,
   "metadata": {},
   "outputs": [],
   "source": []
  }
 ],
 "metadata": {
  "kernelspec": {
   "display_name": "Python 3",
   "language": "python",
   "name": "python3"
  },
  "language_info": {
   "codemirror_mode": {
    "name": "ipython",
    "version": 3
   },
   "file_extension": ".py",
   "mimetype": "text/x-python",
   "name": "python",
   "nbconvert_exporter": "python",
   "pygments_lexer": "ipython3",
   "version": "3.8.5"
  }
 },
 "nbformat": 4,
 "nbformat_minor": 4
}
